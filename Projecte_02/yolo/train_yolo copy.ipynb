{
 "cells": [
  {
   "cell_type": "code",
   "execution_count": null,
   "metadata": {},
   "outputs": [],
   "source": [
    "!pip show roboflow ultralytics\n"
   ]
  },
  {
   "cell_type": "code",
   "execution_count": 1,
   "metadata": {},
   "outputs": [],
   "source": [
    "from roboflow import Roboflow\n",
    "import os\n",
    "from ultralytics import YOLO\n",
    "from datetime import datetime\n",
    "import cv2\n",
    "from pathlib import Path\n",
    "import shutil\n",
    "from glob import glob"
   ]
  },
  {
   "cell_type": "markdown",
   "metadata": {},
   "source": [
    "## Descarregar el dataset"
   ]
  },
  {
   "cell_type": "code",
   "execution_count": null,
   "metadata": {},
   "outputs": [],
   "source": [
    "rf = Roboflow(api_key=\"5HYzrdPm6LO8xmXDVn3G\")\n",
    "project = rf.workspace(\"vc\").project(\"matriculas-espanolas\")\n",
    "version = project.version(1)\n",
    "dataset = version.download(\"yolov11\")                "
   ]
  },
  {
   "cell_type": "markdown",
   "metadata": {},
   "source": [
    "## Entrenar el model"
   ]
  },
  {
   "cell_type": "code",
   "execution_count": null,
   "metadata": {},
   "outputs": [],
   "source": [
    "model = YOLO(\"yolo11n.pt\")\n",
    "results = model.train(data=os.path.join(dataset.location, \"data.yaml\"), epochs=50, imgsz=640)"
   ]
  },
  {
   "cell_type": "markdown",
   "metadata": {},
   "source": [
    "## Guardar el model"
   ]
  },
  {
   "cell_type": "code",
   "execution_count": null,
   "metadata": {},
   "outputs": [],
   "source": [
    "models_path = \"models\"\n",
    "fecha_hora_actual = datetime.now().strftime(\"%d_%m_%Y_%H_%M\")\n",
    "model_name = f\"model_{fecha_hora_actual}\"\n",
    "model_path = os.path.join(models_path, model_name)\n",
    "os.makedirs(models_path, exist_ok=True)\n",
    "model.save(f\"{model_path}.pt\")"
   ]
  },
  {
   "cell_type": "markdown",
   "metadata": {},
   "source": [
    "## Carregar el model"
   ]
  },
  {
   "cell_type": "code",
   "execution_count": 2,
   "metadata": {},
   "outputs": [],
   "source": [
    "# Configuración\n",
    "model_path = \"./models/model_27_03_2025_19_30.pt\"\n",
    "input_path = \"./Matriculas-Españolas-1/valid/images\"\n",
    "output_dir = \"./predicted\"\n",
    "os.makedirs(output_dir, exist_ok=True)\n",
    "\n",
    "# Cargar modelo\n",
    "model_matr = YOLO(model_path)"
   ]
  },
  {
   "cell_type": "markdown",
   "metadata": {},
   "source": [
    "## Prediure imagues"
   ]
  },
  {
   "cell_type": "code",
   "execution_count": 7,
   "metadata": {},
   "outputs": [],
   "source": [
    "import os\n",
    "from glob import glob  # Importamos la función glob directamente\n",
    "\n",
    "def get_image_paths(input_path):\n",
    "    \"\"\"Obtiene la lista de rutas de imágenes a procesar\"\"\"\n",
    "    if isinstance(input_path, list):\n",
    "        return input_path\n",
    "    elif os.path.isfile(input_path):\n",
    "        return [input_path]\n",
    "    elif os.path.isdir(input_path):\n",
    "        image_paths = (glob(os.path.join(input_path, '*.jpg')) + \n",
    "                      glob(os.path.join(input_path, '*.png')) + \n",
    "                      glob(os.path.join(input_path, '*.jpeg')))\n",
    "        return image_paths\n",
    "    else:\n",
    "        raise ValueError(\"Input path no es válido (debe ser imagen, lista o carpeta)\")\n",
    "\n",
    "def generar_markdown_imagenes(input_dir, output_md_path):\n",
    "    \"\"\"Genera un archivo Markdown con todas las imágenes de un directorio\"\"\"\n",
    "    if not os.path.exists(input_dir):\n",
    "        raise FileNotFoundError(f\"El directorio {input_dir} no existe\")\n",
    "    \n",
    "    imagenes = sorted(glob(os.path.join(input_dir, '*.jpg')) + \n",
    "                    glob(os.path.join(input_dir, '*.png')) + \n",
    "                    glob(os.path.join(input_dir, '*.jpeg')))\n",
    "    \n",
    "    contenido_md = \"# Imágenes generadas\\n\\n\"\n",
    "    for img_path in imagenes:\n",
    "        img_name = os.path.basename(img_path)\n",
    "        ruta_relativa = os.path.relpath(img_path, start=os.path.dirname(output_md_path))\n",
    "        contenido_md += f\"## {img_name}\\n\\n\"\n",
    "        contenido_md += f\"![{img_name}]({ruta_relativa})\\n\\n\"\n",
    "    \n",
    "    os.makedirs(os.path.dirname(output_md_path), exist_ok=True)\n",
    "    \n",
    "    with open(output_md_path, 'w') as md_file:\n",
    "        md_file.write(contenido_md)\n",
    "    \n",
    "    return output_md_path"
   ]
  },
  {
   "cell_type": "code",
   "execution_count": 49,
   "metadata": {},
   "outputs": [
    {
     "name": "stdout",
     "output_type": "stream",
     "text": [
      "Results saved to \u001b[1moutput_model/images\u001b[0m\n",
      "102 labels saved to output_model/images/labels\n"
     ]
    },
    {
     "data": {
      "text/plain": [
       "'./output_model/imagenes_generadas.md'"
      ]
     },
     "execution_count": 49,
     "metadata": {},
     "output_type": "execute_result"
    }
   ],
   "source": [
    "input_path = \"Matriculas-Españolas-1/valid/images/\"\n",
    "image_paths = get_image_paths(input_path)\n",
    "\n",
    "name = \"images\"\n",
    "project = \"./output_model\"\n",
    "results = model_matr.predict(\n",
    "    source=image_paths,\n",
    "    conf=0.25,\n",
    "    save=True,\n",
    "    save_txt=True,\n",
    "    name = name,\n",
    "    project = project,\n",
    "    exist_ok=True,\n",
    "    verbose=False\n",
    ")\n",
    "\n",
    "origen = os.path.join(project, name, \"labels\")\n",
    "destino = os.path.join(project, \"labels\")\n",
    "\n",
    "shutil.copytree(origen, destino, dirs_exist_ok=True)\n",
    "shutil.rmtree(origen)\n",
    "\n",
    "md_path = os.path.join(project, \"imagenes_generadas.md\")\n",
    "image_paths = os.path.join(project, name)\n",
    "\n",
    "generar_markdown_imagenes(image_paths, md_path)"
   ]
  },
  {
   "cell_type": "markdown",
   "metadata": {},
   "source": [
    "## Retallar matricules"
   ]
  },
  {
   "cell_type": "code",
   "execution_count": 12,
   "metadata": {},
   "outputs": [],
   "source": [
    "def predecir_yolo(photo, model):\n",
    "    results = model.predict(\n",
    "        source=photo,\n",
    "        conf=0.25,\n",
    "        save=False,\n",
    "        verbose=False\n",
    "    )\n",
    "    return results[0]\n",
    "\n",
    "def obtener_bbox(result):\n",
    "    recuadros = []\n",
    "    for box in result.boxes:\n",
    "        recuadros.append(box.xyxy)\n",
    "    return recuadros\n",
    "\n",
    "def recortar_y_guardar_matricula(bboxes, photo, output_dir=\"recortes_matriculas\"):\n",
    "    \"\"\"Recorta las matriculas y las guarda en una carpeta\"\"\"\n",
    "    img = cv2.imread(photo)\n",
    "    if img is None:\n",
    "        raise ValueError(f\"No se pudo leer la imagen: {photo}\")\n",
    "    \n",
    "    recortes = []\n",
    "    for i, bbox in enumerate(bboxes):\n",
    "        coords = bbox.tolist()[0]\n",
    "        x1, y1, x2, y2 = map(int, coords)\n",
    "        \n",
    "        # Validar coordenadas\n",
    "        h, w = img.shape[:2]\n",
    "        x1, y1 = max(0, x1), max(0, y1)\n",
    "        x2, y2 = min(w, x2), min(h, y2)\n",
    "        \n",
    "        if x2 > x1 and y2 > y1:\n",
    "            recorte = img[y1:y2, x1:x2]\n",
    "            recortes.append(recorte)\n",
    "            \n",
    "            # Guardar inmediatamente cada recorte\n",
    "            os.makedirs(output_dir, exist_ok=True)\n",
    "            ruta_guardado = os.path.join(output_dir, f\"{os.path.basename(photo)}.jpg\")\n",
    "            cv2.imwrite(ruta_guardado, recorte)\n",
    "            print(f\"Guardado: {ruta_guardado}\")\n",
    "        else:\n",
    "            print(f\"Advertencia: Bbox inválida {[x1, y1, x2, y2]}\")\n",
    "    \n",
    "    return recortes"
   ]
  },
  {
   "cell_type": "code",
   "execution_count": null,
   "metadata": {},
   "outputs": [
    {
     "name": "stdout",
     "output_type": "stream",
     "text": [
      "Guardado: ./matriculas_recortadas/1668448029089_jpg.rf.779ea16b2d2e47a624e8ebfa0d3e96a9.jpg.jpg\n",
      "Guardado: ./matriculas_recortadas/1668451259688_jpg.rf.dd34dbc217c4a1baff18f22c1c47bc55.jpg.jpg\n",
      "Guardado: ./matriculas_recortadas/1668451259954_jpg.rf.f9661736cda912fc4a5d9f5970a692e7.jpg.jpg\n",
      "Guardado: ./matriculas_recortadas/1668451259741_jpg.rf.592f6d6c4dacade63ec22118f0ceea75.jpg.jpg\n",
      "Guardado: ./matriculas_recortadas/1668451259641_jpg.rf.c0283e246e83147b150fa0a0557a4111.jpg.jpg\n",
      "Guardado: ./matriculas_recortadas/1668451259861_jpg.rf.635cbf891981ca61bd2cdd67f42b2da2.jpg.jpg\n",
      "\n",
      "Imágenes guardadas\n"
     ]
    }
   ],
   "source": [
    "import os\n",
    "import cv2\n",
    "\n",
    "img = \"./Matriculas-Españolas-1/valid/images/1668448029089_jpg.rf.779ea16b2d2e47a624e8ebfa0d3e96a9.jpg\"\n",
    "img = \"./Matriculas-Españolas-1/valid/images/\"\n",
    "output_folder = \"./matriculas_recortadas\"\n",
    "\n",
    "imges_path = get_image_paths(img)\n",
    "for img_path in imges_path:    \n",
    "    result = predecir_yolo(img_path, model_matr)\n",
    "    recuadros = obtener_bbox(result)\n",
    "    img_recortadas = recortar_y_guardar_matricula(recuadros, img_path, output_folder)"
   ]
  }
 ],
 "metadata": {
  "kernelspec": {
   "display_name": "matricules_venv",
   "language": "python",
   "name": "python3"
  },
  "language_info": {
   "codemirror_mode": {
    "name": "ipython",
    "version": 3
   },
   "file_extension": ".py",
   "mimetype": "text/x-python",
   "name": "python",
   "nbconvert_exporter": "python",
   "pygments_lexer": "ipython3",
   "version": "3.12.3"
  }
 },
 "nbformat": 4,
 "nbformat_minor": 2
}
