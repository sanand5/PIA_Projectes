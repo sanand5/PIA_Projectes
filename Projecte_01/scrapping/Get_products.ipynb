{
 "cells": [
  {
   "cell_type": "markdown",
   "metadata": {},
   "source": [
    "## Imports"
   ]
  },
  {
   "cell_type": "code",
   "execution_count": 70,
   "metadata": {},
   "outputs": [],
   "source": [
    "from bs4 import BeautifulSoup\n",
    "import unicodedata\n",
    "import requests\n",
    "import json\n",
    "import os\n",
    "from pymongo import MongoClient\n"
   ]
  },
  {
   "cell_type": "markdown",
   "metadata": {},
   "source": [
    "## Variables Genereles"
   ]
  },
  {
   "cell_type": "code",
   "execution_count": 71,
   "metadata": {},
   "outputs": [],
   "source": [
    "# API_KEY = '1d8a83a5b3d3bfb0e635d9319bf08dd0'\n",
    "API_KEY = '75a50970b56e59370f927128f3c64627'\n"
   ]
  },
  {
   "cell_type": "markdown",
   "metadata": {},
   "source": [
    "## Funciones Generales"
   ]
  },
  {
   "cell_type": "code",
   "execution_count": 72,
   "metadata": {},
   "outputs": [],
   "source": [
    "def obtener_soup(api_key, url):\n",
    "    params = {\n",
    "        'api_key': api_key,\n",
    "        'url': url,\n",
    "        'country_code': 'ES'\n",
    "    }\n",
    "\n",
    "    response = requests.get('https://api.scraperapi.com/', params=params)\n",
    "\n",
    "    if response.status_code == 200:\n",
    "        return BeautifulSoup(response.text, 'html.parser')\n",
    "    else:\n",
    "        print(f'Error al obtener la página: {response.status_code}')\n",
    "        return None"
   ]
  },
  {
   "cell_type": "markdown",
   "metadata": {},
   "source": [
    "## Obtener IDS"
   ]
  },
  {
   "cell_type": "code",
   "execution_count": 73,
   "metadata": {},
   "outputs": [],
   "source": [
    "def obtener_ids(soup):\n",
    "    ids_productos = set()\n",
    "    productos = soup.find_all('div', {'role': 'listitem', 'data-asin': True})\n",
    "    if productos:\n",
    "        for producto in productos:\n",
    "            id = producto.get('data-asin')\n",
    "            ids_productos.add(id)\n",
    "        return ids_productos\n",
    "    else: return None\n",
    "    "
   ]
  },
  {
   "cell_type": "code",
   "execution_count": 74,
   "metadata": {},
   "outputs": [
    {
     "name": "stdout",
     "output_type": "stream",
     "text": [
      "Obteniendo IDs de la página 1 para la consulta 'telefonos'...\n",
      "Obteniendo IDs de la página 2 para la consulta 'telefonos'...\n",
      "Obteniendo IDs de la página 3 para la consulta 'telefonos'...\n",
      "Obteniendo IDs de la página 4 para la consulta 'telefonos'...\n",
      "Obteniendo IDs de la página 5 para la consulta 'telefonos'...\n",
      "Obteniendo IDs de la página 6 para la consulta 'telefonos'...\n",
      "Obteniendo IDs de la página 7 para la consulta 'telefonos'...\n",
      "Obteniendo IDs de la página 8 para la consulta 'telefonos'...\n",
      "No se encontraron IDs en la página 8 para la consulta 'telefonos'. Terminando la recolección.\n",
      "Se guardaron 275 IDs de productos en 'ids.json'.\n"
     ]
    }
   ],
   "source": [
    "BASE_URL = \"https://www.amazon.es/s?k=\"\n",
    "QUERY = ['moviles', 'smartphones', 'celulares', 'telefonos']\n",
    "ids_productos = set()\n",
    "\n",
    "for query in QUERY:\n",
    "    url_base = BASE_URL + query\n",
    "    page_number = 1\n",
    "\n",
    "    while True:\n",
    "        print(f\"Obteniendo IDs de la página {page_number} para la consulta '{query}'...\")\n",
    "        url_pagina = f\"{url_base}&page={page_number}\"\n",
    "        soup = obtener_soup(API_KEY, url_pagina)\n",
    "\n",
    "        if soup is None:\n",
    "            break\n",
    "\n",
    "        ids_pagina = obtener_ids(soup)\n",
    "        if not ids_pagina:\n",
    "            print(f\"No se encontraron IDs en la página {page_number} para la consulta '{query}'. Terminando la recolección.\")\n",
    "            break\n",
    "\n",
    "        ids_productos.update(ids_pagina)\n",
    "        page_number += 1\n",
    "\n",
    "fichero = \"../res/ids.json\"\n",
    "os.makedirs(os.path.dirname(fichero), exist_ok=True)\n",
    "with open(fichero, \"w\") as f:\n",
    "    json.dump(list(ids_productos), f, indent=4)\n",
    "\n",
    "print(f\"Se guardaron {len(ids_productos)} IDs de productos en 'ids.json'.\")"
   ]
  },
  {
   "cell_type": "markdown",
   "metadata": {},
   "source": [
    "## Obtener productos"
   ]
  },
  {
   "cell_type": "code",
   "execution_count": 77,
   "metadata": {},
   "outputs": [],
   "source": [
    "def limpiar_unicode(texto):\n",
    "    if texto:\n",
    "        return unicodedata.normalize('NFKD', texto).encode('ascii', 'ignore').decode('ascii')\n",
    "    return texto\n",
    "\n",
    "def limpiar_signos(str):\n",
    "    caracteres_a_quitar = \".,:;\\\"'\"\n",
    "    for caracter in caracteres_a_quitar:\n",
    "        str = str.replace(caracter, \"\")\n",
    "    return str\n",
    "\n",
    "def obtener_precio_actual(soup):\n",
    "    try:\n",
    "        precio_actual = soup.find('span', {'class': 'a-price-whole'}).get_text(strip=True)\n",
    "        precio_decimal = soup.find('span', {'class': 'a-price-fraction'}).get_text(strip=True)\n",
    "        precio_actual = precio_actual + precio_decimal\n",
    "        return limpiar_unicode(precio_actual)\n",
    "    except:\n",
    "        return None\n",
    "\n",
    "def obtener_precio_anterior(soup):\n",
    "    try:\n",
    "        precio_anterior = soup.find('span', {'class': 'a-price a-text-price'}).find('span', {'class': 'a-offscreen'}).get_text(strip=True)\n",
    "        return limpiar_unicode(precio_anterior)\n",
    "    except:\n",
    "        return None\n",
    "\n",
    "def obtener_detalles_tecnicos(soup):\n",
    "    detalles_tecnicos = {}\n",
    "    global ids_noobtenidos\n",
    "    try:\n",
    "        tabla_detalles = soup.find('table', {'id': 'productDetails_techSpec_section_1'})\n",
    "        if tabla_detalles:\n",
    "            filas = tabla_detalles.find_all('tr')\n",
    "            for fila in filas:\n",
    "                clave = limpiar_signos(fila.find('th').get_text(strip=True))\n",
    "                valor = fila.find('td').get_text(strip=True)\n",
    "                detalles_tecnicos[limpiar_unicode(clave)] = limpiar_unicode(valor)\n",
    "        else:\n",
    "            ids_noobtenidos = ids_noobtenidos + 1\n",
    "            print(\"No se ha podido obtener los detalles de este id\")\n",
    "            return None\n",
    "    except Exception as e:\n",
    "        ids_noobtenidos = ids_noobtenidos + 1\n",
    "        print(\"No se ha podido obtener los detalles de este id\")\n",
    "        print(e)\n",
    "        return None\n",
    "    return detalles_tecnicos\n",
    "\n",
    "\n",
    "def obtener_soup(api_key, url):\n",
    "    params = {\n",
    "        'api_key': api_key,\n",
    "        'url': url,\n",
    "        'country_code': 'ES'\n",
    "    }\n",
    "    response = requests.get('https://api.scraperapi.com/', params=params)\n",
    "    if response.status_code == 200:\n",
    "        return BeautifulSoup(response.text, 'html.parser')\n",
    "    else:\n",
    "        print(f'Error: {response.status_code}')\n",
    "        return None\n",
    "\n",
    "def obtener_datos_producto(api_key, url, product_id):\n",
    "    soup = obtener_soup(api_key, url)\n",
    "    if soup:\n",
    "        precio_actual = obtener_precio_actual(soup)\n",
    "        precio_anterior = obtener_precio_anterior(soup)\n",
    "        detalles_tecnicos = obtener_detalles_tecnicos(soup)\n",
    "        if detalles_tecnicos:\n",
    "            return {\n",
    "            '_id': product_id,\n",
    "            'precio_actual': precio_actual,\n",
    "            'precio_anterior': precio_anterior,\n",
    "            **detalles_tecnicos\n",
    "            }\n",
    "    return None"
   ]
  },
  {
   "cell_type": "code",
   "execution_count": 78,
   "metadata": {},
   "outputs": [
    {
     "name": "stdout",
     "output_type": "stream",
     "text": [
      "Obteniendo datos de B0D9LNR55Z (1/11)\n",
      "Obteniendo datos de B0BCKXGDGR (2/11)\n",
      "Obteniendo datos de B0CHBHVX9K (3/11)\n",
      "Obteniendo datos de B0D8QQ895Q (4/11)\n",
      "Obteniendo datos de B0D54D58Q4 (5/11)\n",
      "Obteniendo datos de B0CL9KJQPY (6/11)\n",
      "Obteniendo datos de B08HNWHVQK (7/11)\n",
      "Obteniendo datos de B0CJYH75VB (8/11)\n",
      "Obteniendo datos de B0BYCGTQBP (9/11)\n",
      "Obteniendo datos de B09YHKB7DT (10/11)\n",
      "No se han podido obtener 0/11 IDs.\n",
      "Datos guardados\n"
     ]
    }
   ],
   "source": [
    "fichero = \"../res/ids.json\"\n",
    "with open(fichero, 'r') as file:\n",
    "    product_ids = json.load(file)\n",
    "\n",
    "ids_noobtenidos = 0\n",
    "ids_buscados = 1\n",
    "ids_totales = len(product_ids)\n",
    "fichero_detalles = \"../res/mobiles.json\"\n",
    "\n",
    "with open(fichero_detalles, \"w\") as outfile:\n",
    "    outfile.write(\"[\")\n",
    "    first = True\n",
    "    for product_id in product_ids:\n",
    "        print(f\"Obteniendo datos de {product_id} ({ids_buscados}/{ids_totales})\")\n",
    "        url = 'https://www.amazon.es/dp/' + product_id\n",
    "        detalles = obtener_datos_producto(API_KEY, url, product_id)\n",
    "        if detalles:\n",
    "            if not first:\n",
    "                outfile.write(\",\\n\")\n",
    "            json.dump(detalles, outfile, ensure_ascii=False, indent=4)\n",
    "            first = False\n",
    "        ids_buscados += 1\n",
    "    outfile.write(\"\\n]\")\n",
    "print(f\"No se han podido obtener {ids_noobtenidos}/{ids_totales} IDs.\")\n",
    "print(\"Datos guardados\")"
   ]
  },
  {
   "cell_type": "markdown",
   "metadata": {},
   "source": [
    "## MongoDB"
   ]
  },
  {
   "cell_type": "code",
   "execution_count": 79,
   "metadata": {},
   "outputs": [],
   "source": [
    "cliente = MongoClient(\"mongodb://localhost:27017/\")\n",
    "db = cliente[\"PIA\"]\n",
    "coleccion = db[\"products\"]"
   ]
  },
  {
   "cell_type": "markdown",
   "metadata": {},
   "source": [
    "### Insertar productos"
   ]
  },
  {
   "cell_type": "code",
   "execution_count": 80,
   "metadata": {},
   "outputs": [
    {
     "name": "stdout",
     "output_type": "stream",
     "text": [
      "Datos insertados\n"
     ]
    }
   ],
   "source": [
    "with open(\"../res/mobiles.json\", \"r\") as archivo:\n",
    "    datos = json.load(archivo)\n",
    "\n",
    "if isinstance(datos, list):\n",
    "    for doc in datos:\n",
    "        try:\n",
    "            coleccion.update_one({\"_id\": doc[\"_id\"]}, {\"$set\": doc}, upsert=True)\n",
    "        except:\n",
    "            print(doc)\n",
    "\n",
    "else:\n",
    "    datos[\"_id\"] = datos[\"id\"]\n",
    "    del datos[\"id\"]\n",
    "    coleccion.insert_one(datos)\n",
    "\n",
    "print(\"Datos insertados\")\n"
   ]
  },
  {
   "cell_type": "markdown",
   "metadata": {},
   "source": [
    "### Exportar productos"
   ]
  },
  {
   "cell_type": "code",
   "execution_count": 81,
   "metadata": {},
   "outputs": [
    {
     "name": "stdout",
     "output_type": "stream",
     "text": [
      "Base de datos descargada con éxito\n"
     ]
    }
   ],
   "source": [
    "from datetime import datetime\n",
    "\n",
    "fecha_hora_actual = datetime.now().strftime(\"%d_%m_%Y_%H_%M\")\n",
    "carpeta = \"../backup/\"\n",
    "nombre_archivo = f\"backup_mobiles_{fecha_hora_actual}.json\"\n",
    "destino = carpeta + nombre_archivo\n",
    "documentos = list(coleccion.find())\n",
    "\n",
    "for doc in documentos:\n",
    "    doc['_id'] = str(doc['_id'])\n",
    "\n",
    "with open(destino, \"w\", encoding=\"utf-8\") as archivo:\n",
    "    json.dump(documentos, archivo, ensure_ascii=False, indent=4)\n",
    "\n",
    "print(\"Base de datos descargada con éxito\")\n"
   ]
  }
 ],
 "metadata": {
  "kernelspec": {
   "display_name": "projecte01_venv",
   "language": "python",
   "name": "python3"
  },
  "language_info": {
   "codemirror_mode": {
    "name": "ipython",
    "version": 3
   },
   "file_extension": ".py",
   "mimetype": "text/x-python",
   "name": "python",
   "nbconvert_exporter": "python",
   "pygments_lexer": "ipython3",
   "version": "3.12.7"
  }
 },
 "nbformat": 4,
 "nbformat_minor": 2
}
