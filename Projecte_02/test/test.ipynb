{
 "cells": [
  {
   "cell_type": "code",
   "execution_count": 1,
   "metadata": {},
   "outputs": [
    {
     "name": "stderr",
     "output_type": "stream",
     "text": [
      "/home/andreuet/PIA_Projectes/Projecte_02/matricules_venv/lib/python3.12/site-packages/paddle/utils/cpp_extension/extension_utils.py:711: UserWarning: No ccache found. Please be aware that recompiling all source files may be required. You can download and install ccache from: https://github.com/ccache/ccache/blob/master/doc/INSTALL.md\n",
      "  warnings.warn(warning_message)\n"
     ]
    }
   ],
   "source": [
    "import os\n",
    "import cv2\n",
    "from model import predecir_yolo\n",
    "import io\n",
    "import base64\n",
    "from PIL import Image\n",
    "import numpy as np\n",
    "\n",
    "def obtener_bbox(result, max_len=1):\n",
    "    boxes_with_confs = [(box.xyxy, box.conf.item()) for box in result.boxes]\n",
    "    boxes_sorted = sorted(boxes_with_confs, key=lambda x: x[1], reverse=True)\n",
    "    recuadros = [box[0] for box in boxes_sorted[:max_len]]\n",
    "    return recuadros\n",
    "\n",
    "def recortar_y_guardar_matricula(bboxes, photo):\n",
    "    img = cv2.imread(photo)\n",
    "    if img is None:\n",
    "        raise ValueError(f\"No se pudo leer la imagen: {photo}\")\n",
    "    \n",
    "    recortes = []\n",
    "    for i, bbox in enumerate(bboxes):\n",
    "        coords = bbox.tolist()[0]\n",
    "        x1, y1, x2, y2 = map(int, coords)\n",
    "        \n",
    "        h, w = img.shape[:2]\n",
    "        x1, y1 = max(0, x1), max(0, y1)\n",
    "        x2, y2 = min(w, x2), min(h, y2)\n",
    "        \n",
    "        if x2 > x1 and y2 > y1:\n",
    "            recorte = img[y1:y2, x1:x2]\n",
    "            recortes.append(recorte)  \n",
    "    return recortes\n",
    "\n",
    "def obtener_matricula(photo, model, max_len=1):\n",
    "    result = predecir_yolo(photo, model)\n",
    "    bboxes = obtener_bbox(result, max_len)\n",
    "    recortes = recortar_y_guardar_matricula(bboxes, photo)\n",
    "    return recortes\n",
    "\n",
    "def base64_to_cv2(base64_string):\n",
    "    image_bytes = base64.b64decode(base64_string)\n",
    "    np_array = np.frombuffer(image_bytes, dtype=np.uint8)\n",
    "    return cv2.imdecode(np_array, cv2.IMREAD_COLOR)\n",
    "\n",
    "def cv2_to_base64(cv2_image, format=\".jpg\"):\n",
    "    success, encoded_image = cv2.imencode(format, cv2_image)\n",
    "    if not success:\n",
    "        raise ValueError(\"No se pudo codificar la imagen\")\n",
    "    return base64.b64encode(encoded_image).decode('utf-8')"
   ]
  },
  {
   "cell_type": "code",
   "execution_count": 3,
   "metadata": {},
   "outputs": [],
   "source": [
    "def image_to_base64(image_path):\n",
    "    \"\"\"Convierte una imagen a base64\"\"\"\n",
    "    with open(image_path, \"rb\") as image_file:\n",
    "        return base64.b64encode(image_file.read()).decode('utf-8')"
   ]
  },
  {
   "cell_type": "code",
   "execution_count": 5,
   "metadata": {},
   "outputs": [
    {
     "data": {
      "text/plain": [
       "True"
      ]
     },
     "execution_count": 5,
     "metadata": {},
     "output_type": "execute_result"
    }
   ],
   "source": [
    "image_path = \"./1668448029089_jpg.rf.779ea16b2d2e47a624e8ebfa0d3e96a9.jpg\"  # Cambia esto por la ruta de tu imagen\n",
    "image_base64 = image_to_base64(image_path)\n",
    "photo = base64_to_cv2(image_base64)\n",
    "cv2.imwrite(\"output.jpg\", photo)  # Guarda la imagen en formato JPG"
   ]
  }
 ],
 "metadata": {
  "kernelspec": {
   "display_name": "matricules_venv",
   "language": "python",
   "name": "python3"
  },
  "language_info": {
   "codemirror_mode": {
    "name": "ipython",
    "version": 3
   },
   "file_extension": ".py",
   "mimetype": "text/x-python",
   "name": "python",
   "nbconvert_exporter": "python",
   "pygments_lexer": "ipython3",
   "version": "3.12.3"
  }
 },
 "nbformat": 4,
 "nbformat_minor": 2
}
