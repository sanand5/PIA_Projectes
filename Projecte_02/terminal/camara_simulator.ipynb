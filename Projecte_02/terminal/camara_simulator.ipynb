{
 "cells": [
  {
   "cell_type": "markdown",
   "metadata": {},
   "source": [
    "# TERMINAL PRINCIPAL"
   ]
  },
  {
   "cell_type": "markdown",
   "metadata": {},
   "source": [
    "## IMPORTES"
   ]
  },
  {
   "cell_type": "code",
   "execution_count": 3,
   "metadata": {},
   "outputs": [],
   "source": [
    "from pymongo import MongoClient\n",
    "from pymongo.errors import ConnectionFailure\n",
    "import os\n",
    "import random\n",
    "import io\n",
    "import base64\n",
    "import requests\n",
    "from paddleocr import PaddleOCR\n",
    "import easyocr\n",
    "import cv2\n",
    "from datetime import datetime\n",
    "from pymongo import MongoClient\n",
    "from PIL import Image \n",
    "from datetime import timedelta"
   ]
  },
  {
   "cell_type": "markdown",
   "metadata": {},
   "source": [
    "## FUNCIONES PRINCIPALES"
   ]
  },
  {
   "cell_type": "code",
   "execution_count": 5,
   "metadata": {},
   "outputs": [],
   "source": [
    "URI = f\"mongodb://172.25.0.3:27017/\""
   ]
  },
  {
   "cell_type": "markdown",
   "metadata": {},
   "source": [
    "### 1. Comprobar conectividad"
   ]
  },
  {
   "cell_type": "code",
   "execution_count": 6,
   "metadata": {},
   "outputs": [
    {
     "name": "stdout",
     "output_type": "stream",
     "text": [
      "✅ Conexión exitosa a MongoDB\n"
     ]
    }
   ],
   "source": [
    "def test_mongo_connection():\n",
    "\n",
    "    try:\n",
    "        \n",
    "        uri = URI\n",
    "        \n",
    "        client = MongoClient(uri, serverSelectionTimeoutMS=5000)\n",
    "        client.admin.command('ping')\n",
    "        print(\"✅ Conexión exitosa a MongoDB\")\n",
    "        \n",
    "    except ConnectionFailure as e:\n",
    "        print(f\"❌ Error de conexión a MongoDB: {str(e)}\")\n",
    "    except Exception as e:\n",
    "        print(f\"❌ Error: {str(e)}\")\n",
    "\n",
    "test_mongo_connection()"
   ]
  },
  {
   "cell_type": "markdown",
   "metadata": {},
   "source": [
    "### 2. Un coche entra"
   ]
  },
  {
   "cell_type": "markdown",
   "metadata": {},
   "source": [
    "#### 2.1 Funciones basicas"
   ]
  },
  {
   "cell_type": "code",
   "execution_count": 7,
   "metadata": {},
   "outputs": [],
   "source": [
    "def seleccionar_foto_aleatoria(carpeta):\n",
    "\n",
    "    archivos = [f for f in os.listdir(carpeta) if f.lower().endswith('.jpg')]\n",
    "    if not archivos:\n",
    "        raise FileNotFoundError(\"No se encontraron archivos .jpg en la carpeta especificada.\")\n",
    "    \n",
    "    foto_aleatoria = random.choice(archivos)\n",
    "    \n",
    "    return os.path.join(carpeta, foto_aleatoria)\n",
    "\n",
    "def image_to_base64(pil_image):\n",
    "    buffered = io.BytesIO()\n",
    "    pil_image.save(buffered, format=\"JPEG\")\n",
    "    return base64.b64encode(buffered.getvalue()).decode('utf-8')\n",
    "\n",
    "PATH_COCHES = \"../yolo/matriculas_recortadas\""
   ]
  },
  {
   "cell_type": "markdown",
   "metadata": {},
   "source": [
    "#### 2.1 OCR Funciones\n"
   ]
  },
  {
   "cell_type": "code",
   "execution_count": 8,
   "metadata": {},
   "outputs": [],
   "source": [
    "# --PREPROCESAMIENTO DE IMÁGENES--\n",
    "\n",
    "def preprocess_image(image_path):\n",
    "    \"\"\"Limpia la imagen para mejorar el reconocimiento OCR\"\"\"\n",
    "    # 1. Cargar imagen y convertir a escala de grises\n",
    "    img = cv2.imread(image_path)\n",
    "    gray = cv2.cvtColor(img, cv2.COLOR_BGR2GRAY)\n",
    "    \n",
    "    # 2. Ecualización de histograma CLAHE (mejora contraste)\n",
    "    clahe = cv2.createCLAHE(clipLimit=2.0, tileGridSize=(8, 8))\n",
    "    enhanced = clahe.apply(gray)\n",
    "    \n",
    "    # 3. Reducción de ruido (filtro bilateral)\n",
    "    denoised = cv2.bilateralFilter(enhanced, 9, 75, 75)\n",
    "    \n",
    "    # 4. Binarización adaptativa\n",
    "    thresh = cv2.adaptiveThreshold(denoised, 255, cv2.ADAPTIVE_THRESH_GAUSSIAN_C,\n",
    "                                cv2.THRESH_BINARY, 11, 2)\n",
    "    \n",
    "    # 5. Operaciones morfológicas (cierre para unir caracteres rotos)\n",
    "    kernel = cv2.getStructuringElement(cv2.MORPH_RECT, (3, 3))\n",
    "    processed = cv2.morphologyEx(thresh, cv2.MORPH_CLOSE, kernel)\n",
    "    \n",
    "    return processed\n",
    "\n",
    "#-- EASTOCR --\n",
    "\n",
    "def easyocr_get_text_clean(image_path):\n",
    "    \"\"\"OCR con imagen preprocesada\"\"\"\n",
    "    try:\n",
    "        # Preprocesamiento\n",
    "        clean_img = preprocess_image(image_path)\n",
    "        \n",
    "        # Convertir a formato compatible con EasyOCR (color BGR)\n",
    "        img_bgr = cv2.cvtColor(clean_img, cv2.COLOR_GRAY2BGR)\n",
    "        \n",
    "        # Inicializar EasyOCR (optimizado para matrículas)\n",
    "        reader = easyocr.Reader(['es'], gpu=False)  # Usar GPU si disponible\n",
    "        \n",
    "        # Configuración especial para matrículas\n",
    "        result = reader.readtext(img_bgr, \n",
    "                            allowlist='0123456789ABCDEFGHIJKLMNOPQRSTUVWXYZ',\n",
    "                            paragraph=True,\n",
    "                            slope_ths=0.1,\n",
    "                            ycenter_ths=0.5)\n",
    "        \n",
    "        # Extraer el mejor resultado\n",
    "        if result:\n",
    "            # Ordenar por confianza y devolver el más alto\n",
    "            best_result = max(result, key=lambda x: x[2])\n",
    "            return best_result[1]\n",
    "        \n",
    "        return None\n",
    "    \n",
    "    except Exception as e:\n",
    "        print(f\"Error en OCR: {str(e)}\")\n",
    "        return None\n",
    "    \n",
    "#-- PADDLEOCR --\n",
    "\n",
    "def paddleocr_get_text(image_path):\n",
    "    ocr = PaddleOCR(use_angle_cls=True, lang='es')\n",
    "    result = ocr.ocr(image_path, cls=True)\n",
    "    if result and result[0]:\n",
    "        return result[0][0][1][0]  # Extraer texto\n",
    "    return None"
   ]
  },
  {
   "cell_type": "markdown",
   "metadata": {},
   "source": [
    "#### 2.2 Local"
   ]
  },
  {
   "cell_type": "code",
   "execution_count": null,
   "metadata": {},
   "outputs": [
    {
     "name": "stdout",
     "output_type": "stream",
     "text": [
      "Foto seleccionada: ../yolo/matriculas_recortadas/5.jpg\n",
      "Matrícula detectada: detected_plate.jpg\n",
      "[2025/04/02 19:00:57] ppocr DEBUG: Namespace(help='==SUPPRESS==', use_gpu=False, use_xpu=False, use_npu=False, use_mlu=False, use_gcu=False, ir_optim=True, use_tensorrt=False, min_subgraph_size=15, precision='fp32', gpu_mem=500, gpu_id=0, image_dir=None, page_num=0, det_algorithm='DB', det_model_dir='/home/aluvesprada/.paddleocr/whl/det/en/en_PP-OCRv3_det_infer', det_limit_side_len=960, det_limit_type='max', det_box_type='quad', det_db_thresh=0.3, det_db_box_thresh=0.6, det_db_unclip_ratio=1.5, max_batch_size=10, use_dilation=False, det_db_score_mode='fast', det_east_score_thresh=0.8, det_east_cover_thresh=0.1, det_east_nms_thresh=0.2, det_sast_score_thresh=0.5, det_sast_nms_thresh=0.2, det_pse_thresh=0, det_pse_box_thresh=0.85, det_pse_min_area=16, det_pse_scale=1, scales=[8, 16, 32], alpha=1.0, beta=1.0, fourier_degree=5, rec_algorithm='SVTR_LCNet', rec_model_dir='/home/aluvesprada/.paddleocr/whl/rec/latin/latin_PP-OCRv3_rec_infer', rec_image_inverse=True, rec_image_shape='3, 48, 320', rec_batch_num=6, max_text_length=25, rec_char_dict_path='/home/aluvesprada/Escritorio/VISUAL_STUDIO/gerard/lib/python3.12/site-packages/paddleocr/ppocr/utils/dict/latin_dict.txt', use_space_char=True, vis_font_path='./doc/fonts/simfang.ttf', drop_score=0.5, e2e_algorithm='PGNet', e2e_model_dir=None, e2e_limit_side_len=768, e2e_limit_type='max', e2e_pgnet_score_thresh=0.5, e2e_char_dict_path='./ppocr/utils/ic15_dict.txt', e2e_pgnet_valid_set='totaltext', e2e_pgnet_mode='fast', use_angle_cls=True, cls_model_dir='/home/aluvesprada/.paddleocr/whl/cls/ch_ppocr_mobile_v2.0_cls_infer', cls_image_shape='3, 48, 192', label_list=['0', '180'], cls_batch_num=6, cls_thresh=0.9, enable_mkldnn=False, cpu_threads=10, use_pdserving=False, warmup=False, sr_model_dir=None, sr_image_shape='3, 32, 128', sr_batch_num=1, draw_img_save_dir='./inference_results', save_crop_res=False, crop_res_save_dir='./output', use_mp=False, total_process_num=1, process_id=0, benchmark=False, save_log_path='./log_output/', show_log=True, use_onnx=False, onnx_providers=False, onnx_sess_options=False, return_word_box=False, output='./output', table_max_len=488, table_algorithm='TableAttn', table_model_dir=None, merge_no_span_structure=True, table_char_dict_path=None, formula_algorithm='LaTeXOCR', formula_model_dir=None, formula_char_dict_path=None, formula_batch_num=1, layout_model_dir=None, layout_dict_path=None, layout_score_threshold=0.5, layout_nms_threshold=0.5, kie_algorithm='LayoutXLM', ser_model_dir=None, re_model_dir=None, use_visual_backbone=True, ser_dict_path='../train_data/XFUND/class_list_xfun.txt', ocr_order_method=None, mode='structure', image_orientation=False, layout=True, table=True, formula=False, ocr=True, recovery=False, recovery_to_markdown=False, use_pdf2docx_api=False, invert=False, binarize=False, alphacolor=(255, 255, 255), lang='es', det=True, rec=True, type='ocr', savefile=False, ocr_version='PP-OCRv4', structure_version='PP-StructureV2')\n"
     ]
    },
    {
     "name": "stdout",
     "output_type": "stream",
     "text": [
      "[2025/04/02 19:00:58] ppocr DEBUG: dt_boxes num : 1, elapsed : 0.040557861328125\n",
      "[2025/04/02 19:00:58] ppocr DEBUG: cls num  : 1, elapsed : 0.01596355438232422\n",
      "[2025/04/02 19:00:58] ppocr DEBUG: rec_res num  : 1, elapsed : 0.0795433521270752\n",
      "Texto de la matrícula (OCR): 1969 KKW\n",
      "✅ Coche registrado en MongoDB con imagen en base64\n"
     ]
    }
   ],
   "source": [
    "def process_car_entry_local():\n",
    "    try:\n",
    "        # PT1. Seleccionar foto aleatoria y cargarla como PIL Image\n",
    "        photo_path = seleccionar_foto_aleatoria(PATH_COCHES)\n",
    "        pil_image = Image.open(photo_path)\n",
    "        print(f\"Foto seleccionada: {photo_path}\")\n",
    "\n",
    "        # PT2. Simular detección de matrícula (usamos la misma imagen para el ejemplo)\n",
    "        detect_plate_box = \"detected_plate.jpg\"\n",
    "        print(f\"Matrícula detectada: {detect_plate_box}\")\n",
    "\n",
    "        # PT3. Usar Tesseract para extraer texto de la matrícula\n",
    "        license_plate_text = paddleocr_get_text(photo_path)\n",
    "        if not license_plate_text:\n",
    "            license_plate_text = \"TEXTO_NO_DETECTADO\"\n",
    "        print(f\"Texto de la matrícula (OCR): {license_plate_text}\")\n",
    "\n",
    "        # Conexión a MongoDB\n",
    "        uri = URI\n",
    "        client = MongoClient(uri)\n",
    "        db = client['PIA']\n",
    "        collection = db[\"coches\"]\n",
    "\n",
    "        # Convertir PIL Image a base64\n",
    "        image_base64 = image_to_base64(pil_image)\n",
    "\n",
    "        # Crear documento con la imagen en base64\n",
    "        car_entry = {\n",
    "            \"photo_full\": image_base64,\n",
    "            \"photo_plate\": image_base64,\n",
    "            \"plate_text\": license_plate_text,\n",
    "            \"status\": \"Dentro\",\n",
    "            \"entry_timestamp\": datetime.now(),\n",
    "            \"image_format\": \"JPEG\",\n",
    "            \"encoding\": \"base64\"\n",
    "        }\n",
    "\n",
    "        # Insertar en MongoDB\n",
    "        collection.insert_one(car_entry)\n",
    "        print(\"✅ Coche registrado en MongoDB con imagen en base64\")\n",
    "\n",
    "    except FileNotFoundError as e:\n",
    "        print(f\"❌ Error: {e}\")\n",
    "    except Exception as e:\n",
    "        print(f\"❌ Error inesperado: {e}\")\n",
    "\n",
    "process_car_entry_local()"
   ]
  },
  {
   "cell_type": "markdown",
   "metadata": {},
   "source": [
    "#### 2.3 Flask"
   ]
  },
  {
   "cell_type": "code",
   "execution_count": null,
   "metadata": {},
   "outputs": [],
   "source": [
    "def process_car_entry_remote():\n",
    "    PATH_COCHES = \"../yolo/matriculas_recortadas\"\n",
    "    photo_path = seleccionar_foto_aleatoria(PATH_COCHES)\n",
    "    pil_image = Image.open(photo_path)\n",
    "    print(f\"Foto seleccionada: {photo_path}\")\n",
    "    image_base64 = image_to_base64(pil_image)\n",
    "    response = requests.post(\"http://127.0.0.1:8085/model_v2\", json={\"image\": image_base64, \"status\": 0})\n",
    "\n",
    "    if response.status_code == 200:\n",
    "        print(\"✅ Coche enviado correctamente al servidor Flask\")\n",
    "    else:\n",
    "        print(f\"❌ Error: {response.text}\")"
   ]
  },
  {
   "cell_type": "markdown",
   "metadata": {},
   "source": [
    "### 3. Un coche con matricula [X] sale"
   ]
  },
  {
   "cell_type": "markdown",
   "metadata": {},
   "source": [
    "#### 3.1 Local"
   ]
  },
  {
   "cell_type": "code",
   "execution_count": 9,
   "metadata": {},
   "outputs": [],
   "source": [
    "def process_car_exit(plate_text):\n",
    "\n",
    "    try:\n",
    "\n",
    "        uri = URI\n",
    "        client = MongoClient(uri)\n",
    "        db = client['PIA']\n",
    "        collection = db[\"coches\"]\n",
    "\n",
    "        car = collection.find_one({\"plate_text\": plate_text})\n",
    "        \n",
    "        if car:\n",
    "            collection.update_one(\n",
    "                {\"_id\": car[\"_id\"]},\n",
    "                {\"$set\": {\"status\": 2, \"exit_timestamp\": datetime.now()}}\n",
    "            )\n",
    "            print(f\"✅ Coche con matrícula {plate_text} marcado como 'Fuera'\")\n",
    "            return car[\"entry_timestamp\"]\n",
    "        else:\n",
    "            print(f\"❌ No se encontró un coche con matrícula {plate_text} y estado 'Dentro'\")\n",
    "            return None\n",
    "    \n",
    "    except Exception as e:\n",
    "        print(f\"❌ Error al procesar la salida del coche: {str(e)}\")\n",
    "        return None"
   ]
  },
  {
   "cell_type": "code",
   "execution_count": 12,
   "metadata": {},
   "outputs": [
    {
     "name": "stdout",
     "output_type": "stream",
     "text": [
      "✅ Coche con matrícula 1969 KKW marcado como 'Fuera'\n",
      "❌ Tiempo excedido. El coche con matrícula 1969 KKW ha estado dentro por 0:31:01.056934. MULTA DE 1000 BITCOINS.\n"
     ]
    }
   ],
   "source": [
    "matricula = input(\"Introduce la matricula del coche que sale: \")\n",
    "tiempo_entrada = process_car_exit(matricula)\n",
    "\n",
    "if tiempo_entrada:\n",
    "    tiempo_total = datetime.now() - tiempo_entrada\n",
    "    if tiempo_total <= timedelta(minutes=15):\n",
    "        print(f\"✅ Todo bien. El coche con matrícula {matricula} ha estado dentro por {tiempo_total}.\")\n",
    "    else:\n",
    "        print(f\"❌ Tiempo excedido. El coche con matrícula {matricula} ha estado dentro por {tiempo_total}. MULTA DE 1000 BITCOINS.\")\n"
   ]
  },
  {
   "cell_type": "code",
   "execution_count": 163,
   "metadata": {},
   "outputs": [],
   "source": [
    "def process_car_exit_remote(plate_text):\n",
    "    response = requests.post(\"http://127.0.0.1:8085/model_v2\", json={\"matricula\": plate_text, \"status\": 2})\n",
    "\n",
    "    if response.status_code == 200:\n",
    "        print(\"✅ Coche enviado correctamente al servidor Flask\")\n",
    "    else:\n",
    "        print(f\"❌ Error: {response.text}\")"
   ]
  },
  {
   "cell_type": "code",
   "execution_count": null,
   "metadata": {},
   "outputs": [],
   "source": [
    "matricula = input(\"Introduce la matricula del coche que sale: \")\n",
    "process_car_exit_remote(matricula)"
   ]
  },
  {
   "cell_type": "markdown",
   "metadata": {},
   "source": [
    "## DEBUG"
   ]
  },
  {
   "cell_type": "code",
   "execution_count": 13,
   "metadata": {},
   "outputs": [
    {
     "name": "stdout",
     "output_type": "stream",
     "text": [
      "🚗 Matrícula: 1969 KKW\n",
      "🔄 Estado: 2\n",
      "⏰ Fecha entrada: 2025-04-02 19:00:58.721000\n"
     ]
    },
    {
     "data": {
      "image/jpeg": "[encoded data removed]",
      "image/png": "[encoded data removed]",
      "text/plain": [
       "<PIL.JpegImagePlugin.JpegImageFile image mode=RGB size=181x41>"
      ]
     },
     "metadata": {},
     "output_type": "display_data"
    }
   ],
   "source": [
    "def display_last_car():\n",
    "    \"\"\"Muestra el último coche registrado\"\"\"\n",
    "    try:\n",
    "        # Conexión a MongoDB\n",
    "        uri = URI\n",
    "        client = MongoClient(uri)\n",
    "        db = client['PIA']\n",
    "        collection = db[\"coches\"]\n",
    "        \n",
    "        # Obtener el último documento\n",
    "        last_car = collection.find_one(sort=[('entry_timestamp', -1)])\n",
    "        \n",
    "        if not last_car:\n",
    "            print(\"No hay coches registrados\")\n",
    "            return\n",
    "        \n",
    "        # Mostrar la información\n",
    "        image_data = base64.b64decode(last_car['photo_full'])\n",
    "        img = Image.open(io.BytesIO(image_data))\n",
    "        \n",
    "        print(f\"🚗 Matrícula: {last_car['plate_text']}\")\n",
    "        print(f\"🔄 Estado: {last_car['status']}\")\n",
    "        print(f\"⏰ Fecha entrada: {last_car['entry_timestamp']}\")\n",
    "        \n",
    "        display(img)\n",
    "        \n",
    "    except Exception as e:\n",
    "        print(f\"Error: {e}\")\n",
    "\n",
    "# Ejecutar\n",
    "display_last_car()"
   ]
  }
 ],
 "metadata": {
  "kernelspec": {
   "display_name": "gerard",
   "language": "python",
   "name": "python3"
  },
  "language_info": {
   "codemirror_mode": {
    "name": "ipython",
    "version": 3
   },
   "file_extension": ".py",
   "mimetype": "text/x-python",
   "name": "python",
   "nbconvert_exporter": "python",
   "pygments_lexer": "ipython3",
   "version": "3.12.3"
  }
 },
 "nbformat": 4,
 "nbformat_minor": 2
}
