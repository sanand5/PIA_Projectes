{
 "cells": [
  {
   "cell_type": "code",
   "execution_count": null,
   "metadata": {},
   "outputs": [],
   "source": [
    "!pip show roboflow ultralytics\n"
   ]
  },
  {
   "cell_type": "code",
   "execution_count": 3,
   "metadata": {},
   "outputs": [],
   "source": [
    "from roboflow import Roboflow\n",
    "import os\n",
    "from ultralytics import YOLO\n",
    "from datetime import datetime\n",
    "import cv2\n",
    "import numpy as np\n",
    "from pathlib import Path"
   ]
  },
  {
   "cell_type": "markdown",
   "metadata": {},
   "source": [
    "## Descarregar el dataset"
   ]
  },
  {
   "cell_type": "code",
   "execution_count": null,
   "metadata": {},
   "outputs": [],
   "source": [
    "rf = Roboflow(api_key=\"5HYzrdPm6LO8xmXDVn3G\")\n",
    "project = rf.workspace(\"vc\").project(\"matriculas-espanolas\")\n",
    "version = project.version(1)\n",
    "dataset = version.download(\"yolov11\")                "
   ]
  },
  {
   "cell_type": "markdown",
   "metadata": {},
   "source": [
    "## Entrenar el model"
   ]
  },
  {
   "cell_type": "code",
   "execution_count": null,
   "metadata": {},
   "outputs": [],
   "source": [
    "model = YOLO(\"yolo11n.pt\")\n",
    "results = model.train(data=os.path.join(dataset.location, \"data.yaml\"), epochs=50, imgsz=640)"
   ]
  },
  {
   "cell_type": "markdown",
   "metadata": {},
   "source": [
    "## Guardar el model"
   ]
  },
  {
   "cell_type": "code",
   "execution_count": null,
   "metadata": {},
   "outputs": [],
   "source": [
    "models_path = \"models\"\n",
    "fecha_hora_actual = datetime.now().strftime(\"%d_%m_%Y_%H_%M\")\n",
    "model_name = f\"model_{fecha_hora_actual}\"\n",
    "model_path = os.path.join(models_path, model_name)\n",
    "os.makedirs(models_path, exist_ok=True)\n",
    "model.save(f\"{model_path}.pt\")"
   ]
  },
  {
   "cell_type": "markdown",
   "metadata": {},
   "source": [
    "## Carregar el model"
   ]
  },
  {
   "cell_type": "code",
   "execution_count": null,
   "metadata": {},
   "outputs": [],
   "source": [
    "# Configuración\n",
    "model_path = \"./models/model_27_03_2025_19_30.pt\"\n",
    "input_path = \"./Matriculas-Españolas-1/valid/images\"\n",
    "output_dir = \"./predicted\"\n",
    "os.makedirs(output_dir, exist_ok=True)\n",
    "\n",
    "# Cargar modelo\n",
    "model_matr = YOLO(model_path)"
   ]
  },
  {
   "cell_type": "markdown",
   "metadata": {},
   "source": [
    "## Prediure imagues"
   ]
  },
  {
   "cell_type": "code",
   "execution_count": null,
   "metadata": {},
   "outputs": [
    {
     "name": "stdout",
     "output_type": "stream",
     "text": [
      "Procesamiento completado. Resultados guardados en: ./predicted\n"
     ]
    }
   ],
   "source": [
    "def process_input(input_path: str | list[str]) -> list[str]:\n",
    "    \"\"\"Convierte el input en una lista de rutas de imágenes válidas\"\"\"\n",
    "    if isinstance(input_path, str):\n",
    "        if os.path.isdir(input_path):\n",
    "            # Obtener todas las imágenes de la carpeta\n",
    "            return [\n",
    "                os.path.join(input_path, f) \n",
    "                for f in os.listdir(input_path) \n",
    "                if f.lower().endswith(('.png', '.jpg', '.jpeg'))\n",
    "            ]\n",
    "        return [input_path]  # Es una sola imagen\n",
    "    elif isinstance(input_path, list):\n",
    "        return input_path  # Ya es una lista de imágenes\n",
    "    raise ValueError(\"El input debe ser: 1 imagen, lista de imágenes o carpeta\")\n",
    "\n",
    "def initialize_markdown(model_path: str) -> str:\n",
    "    \"\"\"Crea el contenido inicial del markdown\"\"\"\n",
    "    return (\n",
    "        f\"# Resultados de predicción\\n\\n\"\n",
    "        f\"Modelo usado: `{model_path}`\\n\"\n",
    "        f\"Fecha: {datetime.now().strftime('%Y-%m-%d %H:%M:%S')}\\n\\n\"\n",
    "    )\n",
    "\n",
    "def process_image(\n",
    "    model, \n",
    "    image_path: str, \n",
    "    output_dir: str,\n",
    "    confidence_threshold: float = 0.25\n",
    ") -> tuple:\n",
    "    \"\"\"\n",
    "    Procesa una imagen y devuelve:\n",
    "    - imagen con bboxes dibujados\n",
    "    - lista de detecciones\n",
    "    - ruta de salida\n",
    "    \"\"\"\n",
    "    # Realizar predicción\n",
    "    results = model.predict(\n",
    "        source=image_path,\n",
    "        conf=confidence_threshold,\n",
    "        save=False,\n",
    "        verbose=False\n",
    "    )\n",
    "    \n",
    "    image = cv2.imread(image_path)\n",
    "    if image is None:\n",
    "        raise ValueError(f\"No se pudo cargar la imagen: {image_path}\")\n",
    "    \n",
    "    detections = []\n",
    "    result = results[0]\n",
    "    \n",
    "    for box in result.boxes:\n",
    "        x1, y1, x2, y2 = map(int, box.xyxy[0])\n",
    "        confidence = float(box.conf[0])\n",
    "        class_id = int(box.cls[0])\n",
    "        class_name = result.names[class_id]\n",
    "        \n",
    "        # Dibujar bounding box\n",
    "        color = (0, 255, 0)\n",
    "        cv2.rectangle(image, (x1, y1), (x2, y2), color, 2)\n",
    "        \n",
    "        # Añadir etiqueta\n",
    "        label = f\"{class_name}: {confidence:.2f}\"\n",
    "        (text_width, text_height), _ = cv2.getTextSize(label, cv2.FONT_HERSHEY_SIMPLEX, 0.5, 1)\n",
    "        cv2.rectangle(image, (x1, y1 - text_height - 5), (x1 + text_width, y1), color, -1)\n",
    "        cv2.putText(image, label, (x1, y1 - 5), cv2.FONT_HERSHEY_SIMPLEX, 0.5, (0, 0, 0), 1)\n",
    "        \n",
    "        detections.append({\n",
    "            \"class\": class_name,\n",
    "            \"confidence\": confidence,\n",
    "            \"bbox\": [x1, y1, x2, y2]\n",
    "        })\n",
    "    \n",
    "    output_path = os.path.join(output_dir, f\"pred_{Path(image_path).name}\")\n",
    "    return image, detections, output_path\n",
    "\n",
    "def update_markdown(\n",
    "    markdown_content: str,\n",
    "    image_path: str,\n",
    "    output_path: str,\n",
    "    detections: list,\n",
    "    image_index: int\n",
    ") -> str:\n",
    "    \"\"\"Actualiza el contenido markdown con los nuevos resultados\"\"\"\n",
    "    markdown_content += f\"## Imagen {image_index}: {Path(image_path).name}\\n\"\n",
    "    markdown_content += f\"![Imagen procesada](../{output_path})\\n\\n\"\n",
    "    markdown_content += \"**Detecciones:**\\n\"\n",
    "    \n",
    "    for det in detections:\n",
    "        markdown_content += (\n",
    "            f\"- Clase: `{det['class']}` | \"\n",
    "            f\"Confianza: `{det['confidence']:.2f}` | \"\n",
    "            f\"BBox: `{det['bbox']}`\\n\"\n",
    "        )\n",
    "    \n",
    "    return markdown_content + \"\\n---\\n\\n\"\n",
    "\n",
    "def save_results(\n",
    "    markdown_content: str,\n",
    "    output_dir: str,\n",
    "    output_path: str,\n",
    "    processed_image: np.ndarray\n",
    "):\n",
    "    \"\"\"Guarda todos los resultados\"\"\"\n",
    "    # Guardar imagen procesada\n",
    "    cv2.imwrite(output_path, processed_image)\n",
    "    \n",
    "    # Guardar markdown\n",
    "    with open(os.path.join(output_dir, \"results.md\"), \"w\", encoding=\"utf-8\") as f:\n",
    "        f.write(markdown_content)\n",
    "\n",
    "def main(\n",
    "    model_path: str,\n",
    "    input_path: str | list[str],\n",
    "    output_dir: str = \"./predicted\",\n",
    "    confidence_threshold: float = 0.25\n",
    "):\n",
    "    \"\"\"Flujo principal de ejecución\"\"\"\n",
    "    # Configuración inicial\n",
    "    os.makedirs(output_dir, exist_ok=True)\n",
    "    model = YOLO(model_path)\n",
    "    \n",
    "    # Procesar input\n",
    "    images = process_input(input_path)\n",
    "    \n",
    "    # Inicializar markdown\n",
    "    markdown_content = initialize_markdown(model_path)\n",
    "    \n",
    "    # Procesar cada imagen\n",
    "    for i, image_path in enumerate(images, 1):\n",
    "        try:\n",
    "            processed_img, detections, out_path = process_image(\n",
    "                model, image_path, output_dir, confidence_threshold\n",
    "            )\n",
    "            \n",
    "            markdown_content = update_markdown(\n",
    "                markdown_content, image_path, out_path, detections, i\n",
    "            )\n",
    "            \n",
    "            save_results(\n",
    "                markdown_content, output_dir, out_path, processed_img\n",
    "            )\n",
    "            \n",
    "        except Exception as e:\n",
    "            print(f\"Error procesando {image_path}: {str(e)}\")\n",
    "            continue\n",
    "    \n",
    "    print(f\"Procesamiento completado. Resultados en: {output_dir}\")\n",
    "\n",
    "if __name__ == \"__main__\":\n",
    "    # Ejemplo de uso\n",
    "    main(\n",
    "        model_path=\"best.pt\",\n",
    "        input_path=\"./Matriculas-Españolas-1/valid/images\",\n",
    "        confidence_threshold=0.25\n",
    "    )"
   ]
  }
 ],
 "metadata": {
  "kernelspec": {
   "display_name": "matricules_venv",
   "language": "python",
   "name": "python3"
  },
  "language_info": {
   "codemirror_mode": {
    "name": "ipython",
    "version": 3
   },
   "file_extension": ".py",
   "mimetype": "text/x-python",
   "name": "python",
   "nbconvert_exporter": "python",
   "pygments_lexer": "ipython3",
   "version": "3.12.3"
  }
 },
 "nbformat": 4,
 "nbformat_minor": 2
}
