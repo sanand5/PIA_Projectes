{
 "cells": [
  {
   "cell_type": "code",
   "execution_count": null,
   "metadata": {},
   "outputs": [],
   "source": [
    "!pip show roboflow ultralytics\n"
   ]
  },
  {
   "cell_type": "code",
   "execution_count": 3,
   "metadata": {},
   "outputs": [],
   "source": [
    "from roboflow import Roboflow\n",
    "import os\n",
    "from ultralytics import YOLO\n",
    "from datetime import datetime\n",
    "import cv2\n",
    "import numpy as np\n",
    "from pathlib import Path"
   ]
  },
  {
   "cell_type": "markdown",
   "metadata": {},
   "source": [
    "## Descarregar el dataset"
   ]
  },
  {
   "cell_type": "code",
   "execution_count": null,
   "metadata": {},
   "outputs": [],
   "source": [
    "rf = Roboflow(api_key=\"5HYzrdPm6LO8xmXDVn3G\")\n",
    "project = rf.workspace(\"vc\").project(\"matriculas-espanolas\")\n",
    "version = project.version(1)\n",
    "dataset = version.download(\"yolov11\")                "
   ]
  },
  {
   "cell_type": "markdown",
   "metadata": {},
   "source": [
    "## Entrenar el model"
   ]
  },
  {
   "cell_type": "code",
   "execution_count": null,
   "metadata": {},
   "outputs": [],
   "source": [
    "model = YOLO(\"yolo11n.pt\")\n",
    "results = model.train(data=os.path.join(dataset.location, \"data.yaml\"), epochs=50, imgsz=640)"
   ]
  },
  {
   "cell_type": "markdown",
   "metadata": {},
   "source": [
    "## Guardar el model"
   ]
  },
  {
   "cell_type": "code",
   "execution_count": null,
   "metadata": {},
   "outputs": [],
   "source": [
    "models_path = \"models\"\n",
    "fecha_hora_actual = datetime.now().strftime(\"%d_%m_%Y_%H_%M\")\n",
    "model_name = f\"model_{fecha_hora_actual}\"\n",
    "model_path = os.path.join(models_path, model_name)\n",
    "os.makedirs(models_path, exist_ok=True)\n",
    "model.save(f\"{model_path}.pt\")"
   ]
  },
  {
   "cell_type": "markdown",
   "metadata": {},
   "source": [
    "## Carregar el model"
   ]
  },
  {
   "cell_type": "code",
   "execution_count": null,
   "metadata": {},
   "outputs": [],
   "source": [
    "# Configuración\n",
    "model_path = \"./models/model_27_03_2025_19_30.pt\"\n",
    "input_path = \"./Matriculas-Españolas-1/valid/images\"\n",
    "output_dir = \"./predicted\"\n",
    "os.makedirs(output_dir, exist_ok=True)\n",
    "\n",
    "# Cargar modelo\n",
    "model_matr = YOLO(model_path)"
   ]
  },
  {
   "cell_type": "markdown",
   "metadata": {},
   "source": [
    "## Prediure imagues"
   ]
  },
  {
   "cell_type": "code",
   "execution_count": null,
   "metadata": {},
   "outputs": [
    {
     "name": "stdout",
     "output_type": "stream",
     "text": [
      "\n",
      "0: 640x640 1 matricula, 213.3ms\n",
      "Speed: 1.5ms preprocess, 213.3ms inference, 0.6ms postprocess per image at shape (1, 3, 640, 640)\n",
      "\n",
      "0: 640x640 1 matricula, 91.7ms\n",
      "Speed: 3.4ms preprocess, 91.7ms inference, 0.5ms postprocess per image at shape (1, 3, 640, 640)\n",
      "\n",
      "0: 640x640 1 matricula, 81.2ms\n",
      "Speed: 2.2ms preprocess, 81.2ms inference, 0.9ms postprocess per image at shape (1, 3, 640, 640)\n",
      "\n",
      "0: 640x640 1 matricula, 75.8ms\n",
      "Speed: 2.5ms preprocess, 75.8ms inference, 0.9ms postprocess per image at shape (1, 3, 640, 640)\n",
      "\n",
      "0: 640x640 1 matricula, 80.1ms\n",
      "Speed: 1.4ms preprocess, 80.1ms inference, 0.6ms postprocess per image at shape (1, 3, 640, 640)\n",
      "\n",
      "0: 640x640 1 matricula, 103.0ms\n",
      "Speed: 3.6ms preprocess, 103.0ms inference, 0.6ms postprocess per image at shape (1, 3, 640, 640)\n"
     ]
    }
   ],
   "source": [
    "import glob\n",
    "\n",
    "def predict(model, input_path, output_dir):\n",
    "    if isinstance(input_path, list):\n",
    "        image_paths = input_path\n",
    "    elif os.path.isfile(input_path):\n",
    "        image_paths = [input_path]\n",
    "    elif os.path.isdir(input_path):\n",
    "        image_paths = glob.glob(os.path.join(input_path, '*.jpg')) + \\\n",
    "                      glob.glob(os.path.join(input_path, '*.png')) + \\\n",
    "                      glob.glob(os.path.join(input_path, '*.jpeg'))\n",
    "    else:\n",
    "        raise ValueError(\"Input path no es válido (debe ser imagen, lista o carpeta)\")\n",
    "    \n",
    "    os.makedirs(output_dir, exist_ok=True)\n",
    "    \n",
    "    markdown_content = \"# Resultados de predicción\\n\\n\"\n",
    "    \n",
    "    for img_path in image_paths:\n",
    "        img = cv2.imread(img_path)\n",
    "        if img is None:\n",
    "            print(f\"Error al leer la imagen: {img_path}\")\n",
    "            continue\n",
    "        \n",
    "        results = model.predict(img)\n",
    "        \n",
    "        img_name = os.path.basename(img_path)\n",
    "        output_path = os.path.join(output_dir, img_name)\n",
    "        \n",
    "        for r in results:\n",
    "            annotated_img = r.plot()  # Esto devuelve un array numpy\n",
    "            cv2.imwrite(output_path, annotated_img)\n",
    "        \n",
    "        markdown_content += f\"## {img_name}\\n\\n\"\n",
    "        markdown_content += f\"![Predicción para {img_name}](../{output_path})\\n\\n\"\n",
    "        \n",
    "        for r in results:\n",
    "            for box in r.boxes:\n",
    "                markdown_content += f\"- Clase: {model.names[int(box.cls)]} | Confianza: {box.conf}\\n\"\n",
    "        \n",
    "        markdown_content += \"\\n---\\n\\n\"\n",
    "    \n",
    "    with open(os.path.join(output_dir, \"predictions.md\"), \"w\") as md_file:\n",
    "        md_file.write(markdown_content)\n",
    "    \n",
    "    return markdown_content\n",
    "\n",
    "if __name__ == \"__main__\":\n",
    "    model_path = \"./models/model_27_03_2025_19_30.pt\"\n",
    "    input_path = \"./Matriculas-Españolas-1/valid/images\"  # Puede ser archivo, lista o carpeta\n",
    "    output_dir = \"./predicted\"\n",
    "    \n",
    "    model_matr = YOLO(model_path)\n",
    "    \n",
    "    predict(model_matr, input_path, output_dir)"
   ]
  }
 ],
 "metadata": {
  "kernelspec": {
   "display_name": "matricules_venv",
   "language": "python",
   "name": "python3"
  },
  "language_info": {
   "codemirror_mode": {
    "name": "ipython",
    "version": 3
   },
   "file_extension": ".py",
   "mimetype": "text/x-python",
   "name": "python",
   "nbconvert_exporter": "python",
   "pygments_lexer": "ipython3",
   "version": "3.12.3"
  }
 },
 "nbformat": 4,
 "nbformat_minor": 2
}
