{
 "cells": [
  {
   "cell_type": "code",
   "execution_count": null,
   "metadata": {},
   "outputs": [],
   "source": [
    "import json\n",
    "from pymongo import MongoClient"
   ]
  },
  {
   "cell_type": "code",
   "execution_count": null,
   "metadata": {},
   "outputs": [],
   "source": [
    "cliente = MongoClient(\"mongodb://localhost:27018/\")\n",
    "db = cliente[\"PIA\"]\n",
    "coleccion = db[\"products\"]"
   ]
  },
  {
   "cell_type": "markdown",
   "metadata": {},
   "source": [
    "## Obtener ids de fichero"
   ]
  },
  {
   "cell_type": "code",
   "execution_count": 5,
   "metadata": {},
   "outputs": [],
   "source": [
    "file = '../res/backup_mobiles_18_02_2025_21_42.json'\n",
    "with open(file, 'r') as file1:\n",
    "    data = json.load(file1)\n",
    "\n",
    "ids = [item['_id'] for item in data]\n",
    "\n",
    "file_salida = \"ids_file.json\"\n",
    "with open(file_salida, 'w') as f:\n",
    "    json.dump(ids, f, indent=4)"
   ]
  },
  {
   "cell_type": "markdown",
   "metadata": {},
   "source": [
    "## Unir ficheros de ids"
   ]
  },
  {
   "cell_type": "code",
   "execution_count": 10,
   "metadata": {},
   "outputs": [
    {
     "name": "stdout",
     "output_type": "stream",
     "text": [
      "Se han unificado los archivos y eliminado duplicados. Total de IDs únicos: 783\n"
     ]
    }
   ],
   "source": [
    "with open('../res/ids.json', 'r') as file1, open('../res/ids_01.json', 'r') as file2:\n",
    "    ids_1 = json.load(file1)\n",
    "    ids_2 = json.load(file2)\n",
    "\n",
    "ids_unificados = list(set(ids_1 + ids_2))\n",
    "\n",
    "with open('ids_unificados.json', 'w') as output_file:\n",
    "    json.dump(ids_unificados, output_file, indent=4)\n",
    "\n",
    "print(f\"Se han unificado los archivos y eliminado duplicados. Total de IDs únicos: {len(ids_unificados)}\")"
   ]
  },
  {
   "cell_type": "markdown",
   "metadata": {},
   "source": [
    "## Comparar fichero de ids con mongodb"
   ]
  },
  {
   "cell_type": "code",
   "execution_count": 6,
   "metadata": {},
   "outputs": [
    {
     "name": "stdout",
     "output_type": "stream",
     "text": [
      "Se encontraron 9 nuevos IDs. Guardados en '../res/ids_faltantes.json'.\n"
     ]
    }
   ],
   "source": [
    "ids_mongo = {str(doc['_id']) for doc in coleccion.find({}, {'_id': 1})}\n",
    "\n",
    "with open('./ids_file.json', 'r') as archivo_json:\n",
    "    ids_json = set(json.load(archivo_json))\n",
    "\n",
    "ids_nuevos = ids_json - ids_mongo\n",
    "\n",
    "if ids_nuevos:\n",
    "    with open('../res/ids_faltantes.json', 'w') as archivo_salida:\n",
    "        json.dump(list(ids_nuevos), archivo_salida, indent=4)\n",
    "    print(f\"Se encontraron {len(ids_nuevos)} nuevos IDs. Guardados en '../res/ids_faltantes.json'.\")\n",
    "else:\n",
    "    print(\"No se encontraron nuevos IDs.\")\n",
    "\n"
   ]
  },
  {
   "cell_type": "markdown",
   "metadata": {},
   "source": [
    "## Lista de ids de mongoDB"
   ]
  },
  {
   "cell_type": "code",
   "execution_count": 4,
   "metadata": {},
   "outputs": [],
   "source": [
    "ids = coleccion.distinct('_id')  # '_id' es el campo por defecto en MongoDB\n",
    "\n",
    "ids_formateados = [str(id) for id in ids]\n",
    "with open('ids.json', 'w') as archivo_json:\n",
    "    json.dump(ids_formateados, archivo_json, indent=4)"
   ]
  }
 ],
 "metadata": {
  "kernelspec": {
   "display_name": "projecte01_venv",
   "language": "python",
   "name": "python3"
  },
  "language_info": {
   "codemirror_mode": {
    "name": "ipython",
    "version": 3
   },
   "file_extension": ".py",
   "mimetype": "text/x-python",
   "name": "python",
   "nbconvert_exporter": "python",
   "pygments_lexer": "ipython3",
   "version": "3.12.7"
  }
 },
 "nbformat": 4,
 "nbformat_minor": 2
}
