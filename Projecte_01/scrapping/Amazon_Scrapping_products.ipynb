{
 "cells": [
  {
   "cell_type": "code",
   "execution_count": 14,
   "metadata": {},
   "outputs": [
    {
     "name": "stdout",
     "output_type": "stream",
     "text": [
      "Requirement already satisfied: pymongo in /home/andreuet/PIA_Projectes/Projecte_01/projecte01_venv/lib/python3.12/site-packages (4.11.1)\n",
      "Requirement already satisfied: dnspython<3.0.0,>=1.16.0 in /home/andreuet/PIA_Projectes/Projecte_01/projecte01_venv/lib/python3.12/site-packages (from pymongo) (2.7.0)\n"
     ]
    }
   ],
   "source": [
    "# !pip install beautifulsoup4\n",
    "!pip install pymongo"
   ]
  },
  {
   "cell_type": "code",
   "execution_count": 15,
   "metadata": {},
   "outputs": [],
   "source": [
    "from bs4 import BeautifulSoup\n",
    "import unicodedata\n",
    "import requests\n",
    "from pymongo import MongoClient"
   ]
  },
  {
   "cell_type": "code",
   "execution_count": 16,
   "metadata": {},
   "outputs": [],
   "source": [
    "def limpiar_unicode(texto):\n",
    "    if texto:\n",
    "        return unicodedata.normalize('NFKD', texto).encode('ascii', 'ignore').decode('ascii')\n",
    "    return texto\n"
   ]
  },
  {
   "cell_type": "code",
   "execution_count": 17,
   "metadata": {},
   "outputs": [],
   "source": [
    "def obtener_precio_actual(soup):\n",
    "    try:\n",
    "        precio_actual = soup.find('span', {'class': 'a-price-whole'}).get_text(strip=True)\n",
    "        precio_decimal = soup.find('span', {'class': 'a-price-fraction'}).get_text(strip=True)\n",
    "        precio_actual = precio_actual + '.' + precio_decimal + ' €'\n",
    "        return limpiar_unicode(precio_actual)\n",
    "    except:\n",
    "        return 'No disponible'"
   ]
  },
  {
   "cell_type": "code",
   "execution_count": 18,
   "metadata": {},
   "outputs": [],
   "source": [
    "def obtener_precio_anterior(soup):\n",
    "    try:\n",
    "        precio_anterior = soup.find('span', {'class': 'a-price a-text-price'}).find('span', {'class': 'a-offscreen'}).get_text(strip=True)\n",
    "        return limpiar_unicode(precio_anterior)\n",
    "    except:\n",
    "        return 'No disponible'\n"
   ]
  },
  {
   "cell_type": "code",
   "execution_count": 19,
   "metadata": {},
   "outputs": [],
   "source": [
    "def obtener_detalles_tecnicos(soup):\n",
    "    detalles_tecnicos = {}\n",
    "    try:\n",
    "        tabla_detalles = soup.find('table', {'id': 'productDetails_techSpec_section_1'})\n",
    "        if tabla_detalles:\n",
    "            filas = tabla_detalles.find_all('tr')\n",
    "            for fila in filas:\n",
    "                clave = fila.find('th').get_text(strip=True)\n",
    "                valor = fila.find('td').get_text(strip=True)\n",
    "                detalles_tecnicos[limpiar_unicode(clave)] = limpiar_unicode(valor)\n",
    "        else:\n",
    "            detalles_tecnicos = 'No disponible'\n",
    "    except:\n",
    "        detalles_tecnicos = 'No disponible'\n",
    "    return detalles_tecnicos\n"
   ]
  },
  {
   "cell_type": "code",
   "execution_count": 20,
   "metadata": {},
   "outputs": [],
   "source": [
    "def obtener_soup(api_key, product_id):\n",
    "    url = 'https://www.amazon.es/dp/' + product_id\n",
    "    params = {\n",
    "        'api_key': api_key,\n",
    "        'url': url,\n",
    "        'country_code': 'ES'\n",
    "    }\n",
    "\n",
    "    response = requests.get('https://api.scraperapi.com/', params=params)\n",
    "\n",
    "    if response.status_code == 200:\n",
    "        return BeautifulSoup(response.text, 'html.parser')\n",
    "    else:\n",
    "        print(f'Error: {response.status_code}')\n",
    "        return None"
   ]
  },
  {
   "cell_type": "code",
   "execution_count": 21,
   "metadata": {},
   "outputs": [],
   "source": [
    "def insertar_en_mongodb(datos, db_name, collection_name, url = \"mongodb://localhost:27017/\"):\n",
    "    # Conectar a la base de datos local de MongoDB (si usas un MongoDB remoto, cambia la URL de conexión)\n",
    "    cliente = MongoClient(url)\n",
    "    db = cliente[db_name]\n",
    "    coleccion = db[collection_name]\n",
    "    \n",
    "    # Insertar los datos en la colección\n",
    "    resultado = coleccion.insert_one(datos)\n",
    "    print(f'Documento insertado con el ID: {resultado.inserted_id}')\n"
   ]
  },
  {
   "cell_type": "code",
   "execution_count": 22,
   "metadata": {},
   "outputs": [],
   "source": [
    "def obtener_datos_producto(api_key, product_id):\n",
    "    soup = obtener_soup(api_key, product_id)\n",
    "    \n",
    "    if soup:\n",
    "        precio_actual = obtener_precio_actual(soup)\n",
    "        precio_anterior = obtener_precio_anterior(soup)\n",
    "        detalles_tecnicos = obtener_detalles_tecnicos(soup)\n",
    "\n",
    "        resultado = {\n",
    "            'precio_actual': precio_actual,\n",
    "            'precio_anterior': precio_anterior,\n",
    "            **detalles_tecnicos\n",
    "        }\n",
    "        return resultado"
   ]
  },
  {
   "cell_type": "code",
   "execution_count": 23,
   "metadata": {},
   "outputs": [],
   "source": [
    "# API_KEY = '83bc7b5f85e1d83b695e0d39816ebb77'\n",
    "# PRODUCT_ID = 'B0DLNRXQMV'\n",
    "\n",
    "# detalles = obtener_datos_producto(API_KEY, PRODUCT_ID)\n",
    "# print(detalles)\n",
    "# insertar_en_mongodb(detalles, \"PIA\", \"simple_products\")"
   ]
  },
  {
   "cell_type": "code",
   "execution_count": 24,
   "metadata": {},
   "outputs": [
    {
     "name": "stdout",
     "output_type": "stream",
     "text": [
      "{'precio_actual': '109,.99 ', 'precio_anterior': '149,99', 'OS': 'Android', 'Peso del producto': '190 g', 'Dimensiones del producto': '16,8 x 0,83 x 7,67 cm; 190 g', 'Pilas': '1 AA necesaria(s), incluida(s)', 'Numero de modelo del producto': 'T509K3', 'Tecnologia de conectividad': 'Bluetooth, USB, NFC, Wifi', 'GPS': 'Verdadero', 'Caracteristicas especiales': 'Support OS upgrade to Android 16, Dual SIM, Expandable Memory, Octa Core Processor, Glass type: 2.5D glass(NXTPAPER: +AG)', 'Otras caracteristicas de la pantalla': 'Inalambrico', 'Entrada de interfaz humana': 'Microfono, Pantalla Tactil', 'Otras funciones de la camara': 'Trasera, Frontal', 'Conector de audio': '3.5 mm', 'Tamano': 'Touchscreen-Handy', 'Color': 'Space Gray', 'Potencia nominal de la bateria': '5010 Modificador desconocido', 'Tiempo de conversacion telefonica': '38 Horas', 'Que hay en la caja?': 'SIM Tray Ejector, Smartphone, USB Cable'}\n",
      "Documento insertado con el ID: 67ad1e21d768004a42ff4768\n",
      "{'precio_actual': '99,.99 ', 'precio_anterior': '149,99', 'Marca': 'OUKITEL', 'Fabricante': 'OUKITEL', 'Modelo': 'OUKITEL C57S', 'Nombre del modelo': 'C57S', 'Ano del modelo': '2024', 'Dimensiones del producto': '16 x 7 x 0,9 cm; 450 g', 'Pilas': '1 Polimero de litio necesaria(s), incluida(s)', 'Numero de modelo del producto': 'OUKITEL C57S', 'Numero de producto': 'OUKITEL C57S', 'Capacidad de la memoria': '128 GB', 'Capacidad de la memoria flash instalada': '8 GB', 'Capacidad de la memoria RAM instalada': '8 GB', 'Capacidad de almacenamiento digital': '8 GB', 'Sistema operativo': 'Android 14', 'Velocidad del procesador': '1,6 GHz', 'Resolucion del escaner': '576*1280', 'Componentes incluidos': 'Cable USB', 'Numero de productos': '1', 'Tamano de la pantalla': '6,52 Pulgadas', 'Tipo de pantalla': 'LCD', 'Relacion de aspecto': '16:9', 'Resolucion maxima': '1280 x 576', 'Resolucion del sensor optico': '13 MP', 'Resolucion efectiva de video': '13 MP', 'Resolucion de captura de video': '720p', 'Duracion media de la bateria': '28 Horas', 'Pilas / baterias incluidas': 'Si', 'Pilas / baterias necesarias': 'Si', 'Carga electrica de la bateria': '4.3E+3 Miliamperios hora (mAh)', 'Composicion de la pila de la bateria': 'Polimero de Litio', 'Potencia nominal de la bateria': '4300', 'Tecnologia GSM': '4G', 'Frecuencia de actualizacion': '60 GHz', 'Tipo de conector': 'Bluetooth, USB, Wifi, Infrarrojo', 'Entrada de interfaz humana': 'Pantalla Tactil', 'Factor de forma': 'Deslizador', 'Peso del producto': '450 g', 'Actualizaciones de software garantizadas hasta': 'desconocido'}\n",
      "Documento insertado con el ID: 67ad1e2ad768004a42ff476a\n",
      "{'precio_actual': '71,.95 ', 'precio_anterior': '79,90', 'OS': 'android, S30+', 'Peso del producto': '123 g', 'Dimensiones del producto': '11,52 x 4,99 x 1,43 cm; 123 g', 'Pilas': '1 Polimero de litio (Tipo de pila necesaria)', 'Numero de modelo del producto': 'HP03206', 'Tecnologia de comunicacion inalambrica': 'Celular', 'Tecnologia de conectividad': 'Bluetooth', 'GPS': 'Verdadero', 'Caracteristicas especiales': 'Radio, camera', 'Otras caracteristicas de la pantalla': 'Inalambrico', 'Entrada de interfaz humana': 'Pantalla Tactil', 'Resolucion del escaner': '320 x 240', 'Conector de audio': '3.5 mm', 'Tamano': 'Flip', 'Color': 'Blue', 'Potencia nominal de la bateria': '1450 Modificador desconocido', 'Tiempo de conversacion telefonica': '4.8E+2 Horas', 'Que hay en la caja?': 'USB Cable'}\n",
      "Documento insertado con el ID: 67ad1e30d768004a42ff476c\n",
      "{'precio_actual': '21,.97 ', 'precio_anterior': '35,99', 'Peso del producto': '200 g', 'Dimensiones del producto': '8,9 x 7,6 x 14,8 cm; 200 g', 'Numero de modelo del producto': 'CTEZ11', 'Caracteristicas especiales': 'Reembolso de 36 meses o soporte de reemplazo,Ventosa fuerte y pegajosa de mas de 65 LIBRAS - 1,5 veces otras,Certificados de seguridad de clase mundial de grado militar, Bandeja inferior ensanchada y engrosada original,Proteccion completa de silicona suave, KING PC Materials Challenge -40 C ~ 90 C, Brazo mas largo extensible, Clip de ventilacion con nucleo de acero incorporado, solido como una roca y duradero, Material respetuoso con el medio ambiente', 'Otras caracteristicas de la pantalla': 'CE', 'Color': 'Negro', 'Que hay en la caja?': '1 * Clip de Ventilacion de Automovil Alternativo, 1 * Soporte de Telefono, 1 * Soporte de Succion Super Adhesivo, 1 * Version Comica Manual de Usuario'}\n",
      "Documento insertado con el ID: 67ad1e3dd768004a42ff476e\n",
      "{'precio_actual': '104,.49 ', 'precio_anterior': '129,99', 'Marca': 'Blackview', 'Fabricante': 'Blackview', 'Modelo': 'WAVE8', 'Nombre del modelo': 'WAVE 8', 'Ano del modelo': '2025', 'Dimensiones del paquete': '18 x 9 x 5,4 cm; 194 g', 'Pilas': '1 Litio-metal necesaria(s), incluida(s)', 'Numero de modelo del producto': 'WAVE8', 'Capacidad de la memoria': '4 GB', 'Capacidad de la memoria flash instalada': '4 GB', 'Capacidad de la memoria RAM instalada': '12 GB', 'Capacidad de almacenamiento digital': '12 GB', 'Sistema operativo': 'Android 14', 'Resolucion del escaner': '1280 x 720', 'Otras caracteristicas': 'Android 14 & Doke OS 4.0 telefono movil, 6.56\" 90Hz & Cuerpo Ligero smartphone barato, 13MP+8MP & Fingerprint telefono inteligente, 5000mAh & Dual Sim 4G moviles libres, 12GB+256GB/TF 2TB & Super Octa-Core movil barato', 'Componentes incluidos': 'Pelicula templada, Cargador+Cable USB, Manual (Incluyendo espanol), Blackview WAVE8 Smartphone, Funda para telefono inteligente', 'Numero de productos': '1', 'Tamano de la pantalla': '6,56 Pulgadas', 'Tipo de pantalla': 'LCD', 'Relacion de aspecto': '16:9', 'Resolucion maxima': '720x1612 Pixeles', 'Descripcion de la bateria': 'Polimero de litio', 'Pilas / baterias incluidas': 'Si', 'Pilas / baterias necesarias': 'Si', 'Carga electrica de la bateria': '5000 Miliamperios hora (mAh)', 'Composicion de la pila de la bateria': 'Litio Ion', 'Potencia nominal de la bateria': '5000 Miliamperios hora (mAh)', 'Tecnologia GSM': '4G', 'Frecuencia de actualizacion': '90 Hz', 'Tipo de conector': 'WIFI 5G/Bluetooth/OTG/GPS', 'Entrada de interfaz humana': 'Pantalla Tactil', 'Factor de forma': 'Barra', 'Peso del producto': '194 g', 'Actualizaciones de software garantizadas hasta': 'desconocido'}\n",
      "Documento insertado con el ID: 67ad1e43d768004a42ff4770\n",
      "{'precio_actual': '189,.99 ', 'precio_anterior': '199,99', 'Marca': 'CUBOT', 'Fabricante': 'CUBOT', 'Modelo': 'CUBOT Kingkong Star', 'Nombre del modelo': 'CUBOT Kingkong 8', 'Ano del modelo': '2024', 'Dimensiones del paquete': '24,4 x 16,3 x 7,2 cm; 770 g', 'Pilas': '1 Polimero de litio necesaria(s), incluida(s)', 'Numero de modelo del producto': 'CUBOT Kingkong Star', 'Numero de producto': 'CUBOT Kingkong Star', 'Capacidad de la memoria RAM': '12 GB', 'Capacidad de la memoria': '256 GB', 'Capacidad de la memoria flash instalada': '1 TB', 'Capacidad de la memoria RAM instalada': '12 GB', 'Capacidad de almacenamiento digital': '12 GB', 'Sistema operativo': 'Android 13.0', 'Velocidad del procesador': '2.3E+3 MHz', 'Resolucion del escaner': '264 pixels por pulgada', 'Aparatos compatibles': '[Inferred: 4G devices, Verizon devices, touch screen devices, Wi-Fi enabled devices]', 'Otras caracteristicas': 'GPS, camera', 'Componentes incluidos': 'Cable USB', 'Tecnologia de pantalla': 'LCD', 'Tamano de la pantalla': '6,52 Pulgadas', 'Tipo de pantalla': 'LCD', 'Relacion de aspecto': '16:9', 'Resolucion maxima': '1600 x 720 pixels', 'Resolucion del sensor optico': '48 MP', 'Resolucion de captura de video': '4K', 'Pilas / baterias incluidas': 'Si', 'Pilas / baterias necesarias': 'Si', 'Carga electrica de la bateria': '1.06E+4 Miliamperios hora (mAh)', 'Composicion de la pila de la bateria': 'Polimero de Litio', 'Potencia nominal de la bateria': '10600 Miliamperios hora (mAh)', 'Tecnologia GSM': '4G', 'Tipo de conector': 'Bluetooth, USB, NFC, Wifi', 'Entrada de interfaz humana': 'Pantalla Tactil', 'Factor de forma': 'Barra', 'Peso del producto': '770 g', 'Actualizaciones de software garantizadas hasta': 'desconocido'}\n",
      "Documento insertado con el ID: 67ad1e4cd768004a42ff4772\n",
      "{'precio_actual': '327,.59 ', 'precio_anterior': '139,99', 'OS': 'iOS', 'RAM': '256 GB', 'Peso del producto': '164 g', 'Dimensiones del producto': '16,49 x 8,96 x 2,82 cm; 164 g', 'Pilas': '1 Litio Ion (Tipo de pila necesaria)', 'Numero de modelo del producto': 'MGJH3ZD/A-cr', 'Tecnologia de comunicacion inalambrica': 'Bluetooth', 'Tecnologia de conectividad': 'Bluetooth, USB, Wifi', 'Caracteristicas especiales': 'Touchscreen, USB, pantalla_OLED, Internet, Wifi', 'Tecnologia de pantalla': 'OLED', 'Otras caracteristicas de la pantalla': 'Inalambrico', 'Entrada de interfaz humana': 'Pantalla Tactil', 'Tamano': 'Deslizador', 'Color': 'Blanco', 'Potencia nominal de la bateria': '4 Modificador desconocido', 'Que hay en la caja?': 'Cable USB'}\n",
      "Documento insertado con el ID: 67ad1e51d768004a42ff4774\n",
      "{'precio_actual': '139,.00 ', 'precio_anterior': '139,00', 'OS': 'Android 14', 'Peso del producto': '186 g', 'Dimensiones del producto': '16,57 x 7,6 x 0,77 cm; 186 g', 'Pilas': '1 Litio Ion necesaria(s), incluida(s)', 'GPS': 'Verdadero', 'Caracteristicas especiales': 'Internet, camera', 'Tecnologia de pantalla': 'LCD', 'Otras caracteristicas de la pantalla': 'Inalambrico', 'Entrada de interfaz humana': 'Pantalla Tactil', 'Resolucion del escaner': 'HD+ (1604 x 720)', 'Otras funciones de la camara': 'Camara trasera de 50 MP', 'Conector de audio': '3.5 mm', 'Tamano': 'Barra', 'Color': 'Negro', 'Potencia nominal de la bateria': '5100 Modificador desconocido', 'Que hay en la caja?': 'OPPO A40, 1x Cable USB-C, 1x Herramienta extraccion, 1x Guia de uso rapido, 1x Tarjeta de garantia'}\n",
      "Documento insertado con el ID: 67ad1e58d768004a42ff4776\n",
      "{'precio_actual': '245,.90 ', 'precio_anterior': '399,99', 'OS': 'Android', 'RAM': '8 GB', 'Peso del producto': '500 g', 'Pilas': '1 CR5 necesaria(s), incluida(s)', 'Numero de modelo del producto': 'RMX3842', 'Tecnologia de comunicacion inalambrica': 'Celular', 'Tecnologia de conectividad': 'Bluetooth, USB, Wifi', 'GPS': 'Verdadero', 'Caracteristicas especiales': 'camera', 'Otras caracteristicas de la pantalla': 'Inalambrico', 'Entrada de interfaz humana': 'Pantalla Tactil', 'Resolucion del escaner': '1600 x 900', 'Otras funciones de la camara': 'Trasera, Frontal', 'Tamano': 'Barra', 'Color': 'Beige (Navigator Beige)', 'Potencia nominal de la bateria': '5000 Modificador desconocido', 'Tiempo de conversacion telefonica': '19 Minutos', 'Que hay en la caja?': 'Screen Protector, USB Cable'}\n",
      "Documento insertado con el ID: 67ad1e7fd768004a42ff4778\n",
      "{'precio_actual': '133,.00 ', 'precio_anterior': '154,69', 'Marca': 'Motorola', 'Fabricante': 'Motorola', 'Modelo': 'XT2363-3', 'Numero de modelo del producto': 'XT2363-3', 'Numero de producto': '8033779074806', 'Capacidad de la memoria RAM': '8 GB', 'Capacidad de la memoria': '256 GB', 'Capacidad de la memoria flash instalada': '8 GB', 'Capacidad de la memoria RAM instalada': '8 GB', 'Sistema operativo': 'Android', 'Fabricante del procesador': 'Qualcomm Snapdragon 695 5G (6 nm)', 'Tipo de procesador': 'Snapdragon', 'Resolucion del escaner': '1080 x 2400', 'Otras caracteristicas': 'camara_frontal, camera', 'Componentes incluidos': 'Cable de carga', 'Tipo de pantalla': '[PREDICTION: AMOLED or OLED]', 'Relacion de aspecto': '16:9', 'Resolucion del sensor optico': '16 MP', 'Resolucion de captura de video': '4K', 'Descripcion de la bateria': 'Bateria Li-Ion', 'Pilas / baterias incluidas': 'No', 'Pilas / baterias necesarias': 'No', 'Tecnologia GSM': '5G', 'Tipo de conector': '5G', 'Peso del producto': '390 g', 'Actualizaciones de software garantizadas hasta': 'desconocido'}\n",
      "Documento insertado con el ID: 67ad1e84d768004a42ff477a\n",
      "{'precio_actual': '199,.00 ', 'precio_anterior': '149,99', 'OS': 'Android', 'RAM': '8 GB', 'Peso del producto': '180 g', 'Dimensiones del producto': '17 x 7 x 7 cm; 180 g', 'Pilas': '1 Litio Ion necesaria(s), incluida(s)', 'Numero de modelo del producto': 'RMX3999', 'Tecnologia de comunicacion inalambrica': 'NFC', 'Tecnologia de conectividad': 'NFC', 'Otras caracteristicas de la pantalla': 'Inalambrico', 'Entrada de interfaz humana': 'Pantalla Tactil', 'Resolucion del escaner': '1080 x 2400', 'Tamano': 'Barra', 'Color': 'Verde', 'Potencia nominal de la bateria': '5000 Modificador desconocido', 'Que hay en la caja?': 'Screen Protector, USB Cable'}\n",
      "Documento insertado con el ID: 67ad1e8dd768004a42ff477c\n",
      "{'precio_actual': '159,.99 ', 'precio_anterior': '149,99', 'Marca': 'OUKITEL', 'Fabricante': 'OUKITEL', 'Modelo': 'OUKITEL WP28S', 'Nombre del modelo': 'OUKITEL WP28S Movil Irrompible', 'Ano del modelo': '2024', 'Dimensiones del producto': '17,42 x 8,23 x 1,74 cm; 370 g', 'Pilas': '1 Polimero de litio necesaria(s), incluida(s)', 'Numero de modelo del producto': 'OUKITEL WP28S', 'Numero de producto': 'OUKITEL WP28S', 'Capacidad de la memoria RAM': '16 GB', 'Capacidad de la memoria': '128 GB', 'Capacidad de la memoria flash instalada': '128 GB', 'Capacidad de la memoria RAM instalada': '16 GB', 'Capacidad de almacenamiento digital': '128 GB', 'Sistema operativo': 'Android 14', 'Velocidad del procesador': '1,6 GHz', 'Resolucion del escaner': '1280', 'Otras caracteristicas': 'Dual SIM, Cuerpo robusto, GPS integrado, Resistente al agua, Memoria expansible', 'Componentes incluidos': '1 cable de datos, 1 cargador, 1 tarjeta de garantia, Instrucciones de uso *1, 1 alfiler', 'Tamano de la pantalla': '6,52 Pulgadas', 'Tipo de pantalla': 'LCD', 'Resolucion maxima': '1280*576 Pixeles', 'Descripcion de la bateria': 'Bateria Li-Ion', 'Pilas / baterias incluidas': 'Si', 'Pilas / baterias necesarias': 'Si', 'Carga electrica de la bateria': '10600 Miliamperios hora (mAh)', 'Composicion de la pila de la bateria': 'Litio Ion', 'Potencia nominal de la bateria': '10600 Miliamperios hora (mAh)', 'Tecnologia GSM': '4G', 'Tipo de conector': 'Type-C USB, Bluetooth, NFC, 5G Wifi', 'Entrada de interfaz humana': 'Pantalla Tactil', 'Incluye bateria recargable': 'No', 'Peso del producto': '370 g', 'Actualizaciones de software garantizadas hasta': 'desconocido'}\n",
      "Documento insertado con el ID: 67ad1e98d768004a42ff477e\n",
      "{'precio_actual': '242,.92 ', 'precio_anterior': '250,00', 'Marca': 'Xiaomi', 'Fabricante': 'xiaomi', 'Modelo': 'redmi note 14 Pro', 'Nombre del modelo': 'redmi note 14 Pro', 'Ano del modelo': '2024', 'Dimensiones del producto': '8,2 x 74 x 162,2 cm; 600 g', 'Pilas': '1 P76 necesaria(s), incluida(s)', 'Numero de modelo del producto': 'redmi note 14 Pro', 'Capacidad de la memoria': '256 GB', 'Capacidad de la memoria flash instalada': '256 GB', 'Capacidad de almacenamiento digital': '8 GB', 'Sistema operativo': 'Xiaomi HyperOS', 'Fabricante del procesador': 'Mediatek Helio G100 Ultra (6 nm)', 'Otras caracteristicas': 'cargador no incluido', 'Componentes incluidos': 'Eyector de bandeja SIM, Adaptador de corriente, Cable USB', 'Numero de productos': '3', 'Tamano de la pantalla': '6,67 Pulgadas', 'Tipo de pantalla': 'OLED', 'Descripcion de la bateria': 'Polimero de litio', 'Pilas / baterias incluidas': 'Si', 'Pilas / baterias necesarias': 'Si', 'Composicion de la pila de la bateria': 'Polimero de Litio', 'Potencia nominal de la bateria': '5000', 'Tecnologia GSM': '4G', 'Frecuencia de actualizacion': '120 Hz', 'Tipo de conector': 'Bluetooth, NFC, Wifi', 'Factor de forma': 'Pizarra', 'Peso del producto': '600 g', 'Actualizaciones de software garantizadas hasta': 'desconocido'}\n",
      "Documento insertado con el ID: 67ad1e9dd768004a42ff4780\n",
      "{'precio_actual': '199,.99 ', 'precio_anterior': '149,99', 'Marca': 'Blackview', 'Fabricante': 'Blackview Smartphone Color8(8+256) Blue', 'Modelo': 'Color 8', 'Nombre del modelo': 'Blackview Smartphone Color8(8+256) Blue', 'Ano del modelo': '2024', 'Dimensiones del producto': '16,1 x 7,7 x 1,5 cm; 300 g', 'Pilas': '1 Polimero de litio necesaria(s), incluida(s)', 'Numero de modelo del producto': 'Color 8', 'Capacidad de la memoria': '256 GB', 'Capacidad de la memoria flash instalada': '8 GB', 'Capacidad de almacenamiento digital': '8 GB', 'Sistema operativo': 'Android 13.0', 'Resolucion del escaner': '720 x 1600', 'Aparatos compatibles': 'Dispositivos con tecnologias de red inalambrica como LTE y wifi', 'Componentes incluidos': 'Cable USB', 'Numero de productos': '1', 'Tamano de la pantalla': '6,75 Pulgadas', 'Tipo de pantalla': 'LCD', 'Relacion de aspecto': '16:9', 'Resolucion maxima': '720x1600', 'Pilas / baterias incluidas': 'Si', 'Pilas / baterias necesarias': 'Si', 'Composicion de la pila de la bateria': 'Litio Ion', 'Potencia nominal de la bateria': '6000', 'Tecnologia GSM': '4G', 'Tipo de conector': '4G', 'Entrada de interfaz humana': 'Pantalla Tactil', 'Factor de forma': 'Deslizador', 'Peso del producto': '300 g', 'Actualizaciones de software garantizadas hasta': 'desconocido'}\n",
      "Documento insertado con el ID: 67ad1eb0d768004a42ff4782\n",
      "{'precio_actual': '159,.99 ', 'precio_anterior': '325,99 ', 'Marca': 'OUKITEL', 'Fabricante': 'OUKITEL', 'Modelo': 'OUKITEL WP28S', 'Nombre del modelo': 'WP28S', 'Ano del modelo': '2024', 'Dimensiones del producto': '17,42 x 8,23 x 1,74 cm; 370 g', 'Pilas': '1 Litio-metal necesaria(s), incluida(s)', 'Numero de modelo del producto': 'OUKITEL WP28S', 'Numero de producto': 'OUKITEL WP28S', 'Capacidad de la memoria': '128 GB', 'Capacidad de la memoria flash instalada': '128 GB', 'Capacidad de la memoria RAM instalada': '16 GB', 'Capacidad de almacenamiento digital': '128 GB', 'Sistema operativo': 'Android 14', 'Velocidad del procesador': '1,6 GHz', 'Resolucion del escaner': '1280*576', 'Otras caracteristicas': 'Resistente al agua, Cuerpo robusto', 'Componentes incluidos': 'Tarjeta de Garantia x1, Telefono Resistente x 1, Cargador x1, Guia de Inicio Rapido x1, Cable de Datos USB x1', 'Numero de productos': '1', 'Tecnologia de pantalla': 'LCD', 'Tamano de la pantalla': '6,52 Pulgadas', 'Tipo de pantalla': 'LCD', 'Relacion de aspecto': '16:9', 'Resolucion maxima': '1280*576 Pixeles', 'Resolucion del sensor optico': '5.0, 13.0 MP', 'Resolucion de captura de video': '1920 x 1080 pixels', 'Descripcion de la bateria': 'Polimero de litio', 'Pilas / baterias incluidas': 'Si', 'Pilas / baterias necesarias': 'Si', 'Carga electrica de la bateria': '1.06E+4 Miliamperios hora (mAh)', 'Composicion de la pila de la bateria': 'Litio Ion', 'Potencia nominal de la bateria': '10600 Miliamperios hora (mAh)', 'Tecnologia GSM': '4G', 'Tipo de conector': 'Bluetooth, Type-C, NFC, 5G Wifi', 'Entrada de interfaz humana': 'Pantalla Tactil', 'Factor de forma': 'Pizarra', 'Incluye bateria recargable': 'No', 'Peso del producto': '370 g', 'Actualizaciones de software garantizadas hasta': 'desconocido'}\n",
      "Documento insertado con el ID: 67ad1eb7d768004a42ff4784\n"
     ]
    },
    {
     "ename": "TypeError",
     "evalue": "'str' object is not a mapping",
     "output_type": "error",
     "traceback": [
      "\u001b[0;31m---------------------------------------------------------------------------\u001b[0m",
      "\u001b[0;31mTypeError\u001b[0m                                 Traceback (most recent call last)",
      "Cell \u001b[0;32mIn[24], line 12\u001b[0m\n\u001b[1;32m     10\u001b[0m \u001b[38;5;66;03m# Iterar sobre los IDs de producto\u001b[39;00m\n\u001b[1;32m     11\u001b[0m \u001b[38;5;28;01mfor\u001b[39;00m product_id \u001b[38;5;129;01min\u001b[39;00m product_ids:\n\u001b[0;32m---> 12\u001b[0m     detalles \u001b[38;5;241m=\u001b[39m \u001b[43mobtener_datos_producto\u001b[49m\u001b[43m(\u001b[49m\u001b[43mAPI_KEY\u001b[49m\u001b[43m,\u001b[49m\u001b[43m \u001b[49m\u001b[43mproduct_id\u001b[49m\u001b[43m)\u001b[49m\n\u001b[1;32m     13\u001b[0m     \u001b[38;5;28mprint\u001b[39m(detalles)\n\u001b[1;32m     14\u001b[0m     insertar_en_mongodb(detalles, \u001b[38;5;124m\"\u001b[39m\u001b[38;5;124mPIA\u001b[39m\u001b[38;5;124m\"\u001b[39m, \u001b[38;5;124m\"\u001b[39m\u001b[38;5;124msimple_products\u001b[39m\u001b[38;5;124m\"\u001b[39m)\n",
      "Cell \u001b[0;32mIn[22], line 9\u001b[0m, in \u001b[0;36mobtener_datos_producto\u001b[0;34m(api_key, product_id)\u001b[0m\n\u001b[1;32m      6\u001b[0m precio_anterior \u001b[38;5;241m=\u001b[39m obtener_precio_anterior(soup)\n\u001b[1;32m      7\u001b[0m detalles_tecnicos \u001b[38;5;241m=\u001b[39m obtener_detalles_tecnicos(soup)\n\u001b[0;32m----> 9\u001b[0m resultado \u001b[38;5;241m=\u001b[39m {\n\u001b[1;32m     10\u001b[0m     \u001b[38;5;124m'\u001b[39m\u001b[38;5;124mprecio_actual\u001b[39m\u001b[38;5;124m'\u001b[39m: precio_actual,\n\u001b[1;32m     11\u001b[0m     \u001b[38;5;124m'\u001b[39m\u001b[38;5;124mprecio_anterior\u001b[39m\u001b[38;5;124m'\u001b[39m: precio_anterior,\n\u001b[1;32m     12\u001b[0m     \u001b[38;5;241m*\u001b[39m\u001b[38;5;241m*\u001b[39mdetalles_tecnicos\n\u001b[1;32m     13\u001b[0m }\n\u001b[1;32m     14\u001b[0m \u001b[38;5;28;01mreturn\u001b[39;00m resultado\n",
      "\u001b[0;31mTypeError\u001b[0m: 'str' object is not a mapping"
     ]
    }
   ],
   "source": [
    "import json\n",
    "\n",
    "# Cargar los IDs desde el archivo JSON\n",
    "with open('../ids.json', 'r') as file:\n",
    "    product_ids = json.load(file)\n",
    "\n",
    "# API_KEY\n",
    "API_KEY = '83bc7b5f85e1d83b695e0d39816ebb77'\n",
    "\n",
    "# Iterar sobre los IDs de producto\n",
    "for product_id in product_ids:\n",
    "    detalles = obtener_datos_producto(API_KEY, product_id)\n",
    "    print(detalles)\n",
    "    insertar_en_mongodb(detalles, \"PIA\", \"simple_products\")\n"
   ]
  }
 ],
 "metadata": {
  "kernelspec": {
   "display_name": "projecte01_venv",
   "language": "python",
   "name": "python3"
  },
  "language_info": {
   "codemirror_mode": {
    "name": "ipython",
    "version": 3
   },
   "file_extension": ".py",
   "mimetype": "text/x-python",
   "name": "python",
   "nbconvert_exporter": "python",
   "pygments_lexer": "ipython3",
   "version": "3.12.7"
  }
 },
 "nbformat": 4,
 "nbformat_minor": 2
}
