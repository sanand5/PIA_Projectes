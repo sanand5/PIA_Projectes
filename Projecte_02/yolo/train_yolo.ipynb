{
 "cells": [
  {
   "cell_type": "code",
   "execution_count": null,
   "metadata": {},
   "outputs": [],
   "source": [
    "!pip show roboflow ultralytics\n"
   ]
  },
  {
   "cell_type": "code",
   "execution_count": 3,
   "metadata": {},
   "outputs": [],
   "source": [
    "from roboflow import Roboflow\n",
    "import os\n",
    "from ultralytics import YOLO\n",
    "from datetime import datetime\n",
    "import cv2\n",
    "from pathlib import Path\n",
    "import shutil\n",
    "from glob import glob"
   ]
  },
  {
   "cell_type": "markdown",
   "metadata": {},
   "source": [
    "## Descarregar el dataset"
   ]
  },
  {
   "cell_type": "code",
   "execution_count": null,
   "metadata": {},
   "outputs": [],
   "source": [
    "rf = Roboflow(api_key=\"5HYzrdPm6LO8xmXDVn3G\")\n",
    "project = rf.workspace(\"vc\").project(\"matriculas-espanolas\")\n",
    "version = project.version(1)\n",
    "dataset = version.download(\"yolov11\")                "
   ]
  },
  {
   "cell_type": "markdown",
   "metadata": {},
   "source": [
    "## Entrenar el model"
   ]
  },
  {
   "cell_type": "code",
   "execution_count": null,
   "metadata": {},
   "outputs": [],
   "source": [
    "model = YOLO(\"yolo11n.pt\")\n",
    "results = model.train(data=os.path.join(dataset.location, \"data.yaml\"), epochs=50, imgsz=640)"
   ]
  },
  {
   "cell_type": "markdown",
   "metadata": {},
   "source": [
    "## Guardar el model"
   ]
  },
  {
   "cell_type": "code",
   "execution_count": null,
   "metadata": {},
   "outputs": [],
   "source": [
    "models_path = \"models\"\n",
    "fecha_hora_actual = datetime.now().strftime(\"%d_%m_%Y_%H_%M\")\n",
    "model_name = f\"model_{fecha_hora_actual}\"\n",
    "model_path = os.path.join(models_path, model_name)\n",
    "os.makedirs(models_path, exist_ok=True)\n",
    "model.save(f\"{model_path}.pt\")"
   ]
  },
  {
   "cell_type": "markdown",
   "metadata": {},
   "source": [
    "## Carregar el model"
   ]
  },
  {
   "cell_type": "code",
   "execution_count": 4,
   "metadata": {},
   "outputs": [],
   "source": [
    "# Configuración\n",
    "model_path = \"./models/model_27_03_2025_19_30.pt\"\n",
    "input_path = \"./Matriculas-Españolas-1/valid/images\"\n",
    "output_dir = \"./predicted\"\n",
    "os.makedirs(output_dir, exist_ok=True)\n",
    "\n",
    "# Cargar modelo\n",
    "model_matr = YOLO(model_path)"
   ]
  },
  {
   "cell_type": "markdown",
   "metadata": {},
   "source": [
    "## Prediure imagues"
   ]
  },
  {
   "cell_type": "code",
   "execution_count": 48,
   "metadata": {},
   "outputs": [],
   "source": [
    "import os\n",
    "from glob import glob  # Importamos la función glob directamente\n",
    "\n",
    "def get_image_paths(input_path):\n",
    "    \"\"\"Obtiene la lista de rutas de imágenes a procesar\"\"\"\n",
    "    if isinstance(input_path, list):\n",
    "        return input_path\n",
    "    elif os.path.isfile(input_path):\n",
    "        return [input_path]\n",
    "    elif os.path.isdir(input_path):\n",
    "        image_paths = (glob(os.path.join(input_path, '*.jpg')) + \n",
    "                      glob(os.path.join(input_path, '*.png')) + \n",
    "                      glob(os.path.join(input_path, '*.jpeg')))\n",
    "        return image_paths\n",
    "    else:\n",
    "        raise ValueError(\"Input path no es válido (debe ser imagen, lista o carpeta)\")\n",
    "\n",
    "def generar_markdown_imagenes(input_dir, output_md_path):\n",
    "    \"\"\"Genera un archivo Markdown con todas las imágenes de un directorio\"\"\"\n",
    "    if not os.path.exists(input_dir):\n",
    "        raise FileNotFoundError(f\"El directorio {input_dir} no existe\")\n",
    "    \n",
    "    imagenes = sorted(glob(os.path.join(input_dir, '*.jpg')) + \n",
    "                    glob(os.path.join(input_dir, '*.png')) + \n",
    "                    glob(os.path.join(input_dir, '*.jpeg')))\n",
    "    \n",
    "    contenido_md = \"# Imágenes generadas\\n\\n\"\n",
    "    for img_path in imagenes:\n",
    "        img_name = os.path.basename(img_path)\n",
    "        ruta_relativa = os.path.relpath(img_path, start=os.path.dirname(output_md_path))\n",
    "        contenido_md += f\"## {img_name}\\n\\n\"\n",
    "        contenido_md += f\"![{img_name}]({ruta_relativa})\\n\\n\"\n",
    "    \n",
    "    os.makedirs(os.path.dirname(output_md_path), exist_ok=True)\n",
    "    \n",
    "    with open(output_md_path, 'w') as md_file:\n",
    "        md_file.write(contenido_md)\n",
    "    \n",
    "    return output_md_path"
   ]
  },
  {
   "cell_type": "code",
   "execution_count": 49,
   "metadata": {},
   "outputs": [
    {
     "name": "stdout",
     "output_type": "stream",
     "text": [
      "Results saved to \u001b[1moutput_model/images\u001b[0m\n",
      "102 labels saved to output_model/images/labels\n"
     ]
    },
    {
     "data": {
      "text/plain": [
       "'./output_model/imagenes_generadas.md'"
      ]
     },
     "execution_count": 49,
     "metadata": {},
     "output_type": "execute_result"
    }
   ],
   "source": [
    "input_path = \"Matriculas-Españolas-1/valid/images/\"\n",
    "image_paths = get_image_paths(input_path)\n",
    "\n",
    "name = \"images\"\n",
    "project = \"./output_model\"\n",
    "results = model_matr.predict(\n",
    "    source=image_paths,\n",
    "    conf=0.25,\n",
    "    save=True,\n",
    "    save_txt=True,\n",
    "    name = name,\n",
    "    project = project,\n",
    "    exist_ok=True,\n",
    "    verbose=False\n",
    ")\n",
    "\n",
    "origen = os.path.join(project, name, \"labels\")\n",
    "destino = os.path.join(project, \"labels\")\n",
    "\n",
    "shutil.copytree(origen, destino, dirs_exist_ok=True)\n",
    "shutil.rmtree(origen)\n",
    "\n",
    "md_path = os.path.join(project, \"imagenes_generadas.md\")\n",
    "image_paths = os.path.join(project, name)\n",
    "\n",
    "generar_markdown_imagenes(image_paths, md_path)"
   ]
  },
  {
   "cell_type": "markdown",
   "metadata": {},
   "source": [
    "## Retallar matricules"
   ]
  },
  {
   "cell_type": "code",
   "execution_count": null,
   "metadata": {},
   "outputs": [
    {
     "ename": "TypeError",
     "evalue": "slice indices must be integers or None or have an __index__ method",
     "output_type": "error",
     "traceback": [
      "\u001b[31m---------------------------------------------------------------------------\u001b[39m",
      "\u001b[31mTypeError\u001b[39m                                 Traceback (most recent call last)",
      "\u001b[36mCell\u001b[39m\u001b[36m \u001b[39m\u001b[32mIn[5]\u001b[39m\u001b[32m, line 30\u001b[39m\n\u001b[32m     27\u001b[39m recuadros = obtener_bbox(result)\n\u001b[32m     28\u001b[39m \u001b[38;5;66;03m# for bbox in recuadros:\u001b[39;00m\n\u001b[32m     29\u001b[39m \u001b[38;5;66;03m#     print(bbox.tolist()[0])        \u001b[39;00m\n\u001b[32m---> \u001b[39m\u001b[32m30\u001b[39m img_recortadas = \u001b[43mrecortar_matriculas\u001b[49m\u001b[43m(\u001b[49m\u001b[43mrecuadros\u001b[49m\u001b[43m,\u001b[49m\u001b[43mimg_path\u001b[49m\u001b[43m)\u001b[49m\n\u001b[32m     31\u001b[39m \u001b[38;5;28mprint\u001b[39m(img_recortadas)\n",
      "\u001b[36mCell\u001b[39m\u001b[36m \u001b[39m\u001b[32mIn[5]\u001b[39m\u001b[32m, line 21\u001b[39m, in \u001b[36mrecortar_matriculas\u001b[39m\u001b[34m(bboxes, photo)\u001b[39m\n\u001b[32m     19\u001b[39m \u001b[38;5;28;01mfor\u001b[39;00m bbox \u001b[38;5;129;01min\u001b[39;00m bboxes:\n\u001b[32m     20\u001b[39m     x1, y1, x2, y2 = bbox.tolist()[\u001b[32m0\u001b[39m]\n\u001b[32m---> \u001b[39m\u001b[32m21\u001b[39m     recorte = \u001b[43mimg\u001b[49m\u001b[43m[\u001b[49m\u001b[43my1\u001b[49m\u001b[43m:\u001b[49m\u001b[43my2\u001b[49m\u001b[43m,\u001b[49m\u001b[43m \u001b[49m\u001b[43mx1\u001b[49m\u001b[43m:\u001b[49m\u001b[43mx2\u001b[49m\u001b[43m]\u001b[49m\n\u001b[32m     22\u001b[39m     recortes.append(recorte)\n\u001b[32m     23\u001b[39m \u001b[38;5;28;01mreturn\u001b[39;00m recortes\n",
      "\u001b[31mTypeError\u001b[39m: slice indices must be integers or None or have an __index__ method"
     ]
    }
   ],
   "source": [
    "def predecir_yolo(photo, model):\n",
    "    results = model.predict(\n",
    "        source=photo,\n",
    "        conf=0.25,\n",
    "        save=False,\n",
    "        verbose=False\n",
    "    )\n",
    "    return results[0]\n",
    "\n",
    "def obtener_bbox(result):\n",
    "    recuadros = []\n",
    "    for box in result.boxes:\n",
    "        recuadros.append(box.xyxy)\n",
    "    return recuadros"
   ]
  },
  {
   "cell_type": "code",
   "execution_count": 6,
   "metadata": {},
   "outputs": [
    {
     "name": "stdout",
     "output_type": "stream",
     "text": [
      "Guardado: ./matriculas_recortadas/matricula_1.jpg\n",
      "\n",
      "Imágenes guardadas en:\n",
      "./matriculas_recortadas/matricula_1.jpg\n"
     ]
    }
   ],
   "source": [
    "import os\n",
    "import cv2\n",
    "\n",
    "def guardar_recortes(recortes, output_dir=\"recortes_matriculas\"):\n",
    "    \"\"\"Guarda los recortes en una carpeta especificada\"\"\"\n",
    "    # Crear la carpeta si no existe\n",
    "    os.makedirs(output_dir, exist_ok=True)\n",
    "    \n",
    "    rutas_guardadas = []\n",
    "    for i, recorte in enumerate(recortes):\n",
    "        if recorte.size > 0:  # Verificar que el recorte no esté vacío\n",
    "            ruta_guardado = os.path.join(output_dir, f\"matricula_{i+1}.jpg\")\n",
    "            cv2.imwrite(ruta_guardado, recorte)\n",
    "            rutas_guardadas.append(ruta_guardado)\n",
    "    \n",
    "    return rutas_guardadas\n",
    "\n",
    "# Versión modificada de recortar_matriculas que guarda automáticamente\n",
    "def recortar_y_guardar_matriculas(bboxes, photo, output_dir=\"recortes_matriculas\"):\n",
    "    \"\"\"Recorta las matriculas y las guarda en una carpeta\"\"\"\n",
    "    img = cv2.imread(photo)\n",
    "    if img is None:\n",
    "        raise ValueError(f\"No se pudo leer la imagen: {photo}\")\n",
    "    \n",
    "    recortes = []\n",
    "    for i, bbox in enumerate(bboxes):\n",
    "        coords = bbox.tolist()[0]\n",
    "        x1, y1, x2, y2 = map(int, coords)\n",
    "        \n",
    "        # Validar coordenadas\n",
    "        h, w = img.shape[:2]\n",
    "        x1, y1 = max(0, x1), max(0, y1)\n",
    "        x2, y2 = min(w, x2), min(h, y2)\n",
    "        \n",
    "        if x2 > x1 and y2 > y1:\n",
    "            recorte = img[y1:y2, x1:x2]\n",
    "            recortes.append(recorte)\n",
    "            \n",
    "            # Guardar inmediatamente cada recorte\n",
    "            os.makedirs(output_dir, exist_ok=True)\n",
    "            ruta_guardado = os.path.join(output_dir, f\"matricula_{i+1}.jpg\")\n",
    "            cv2.imwrite(ruta_guardado, recorte)\n",
    "            print(f\"Guardado: {ruta_guardado}\")\n",
    "        else:\n",
    "            print(f\"Advertencia: Bbox inválida {[x1, y1, x2, y2]}\")\n",
    "    \n",
    "    return recortes\n",
    "\n",
    "# Ejemplo de uso completo\n",
    "img_path = \"./Matriculas-Españolas-1/valid/images/1668448029089_jpg.rf.779ea16b2d2e47a624e8ebfa0d3e96a9.jpg\"\n",
    "output_folder = \"./matriculas_recortadas\"  # Puedes cambiar esta ruta\n",
    "\n",
    "# 1. Predecir y obtener bounding boxes\n",
    "result = predecir_yolo(img_path, model_matr)\n",
    "recuadros = obtener_bbox(result)\n",
    "\n",
    "# 2. Recortar y guardar automáticamente\n",
    "img_recortadas = recortar_y_guardar_matriculas(recuadros, img_path, output_folder)\n",
    "\n",
    "# 3. Mostrar rutas de los archivos guardados\n",
    "print(\"\\nImágenes guardadas en:\")\n",
    "for root, _, files in os.walk(output_folder):\n",
    "    for file in files:\n",
    "        print(os.path.join(root, file))"
   ]
  }
 ],
 "metadata": {
  "kernelspec": {
   "display_name": "matricules_venv",
   "language": "python",
   "name": "python3"
  },
  "language_info": {
   "codemirror_mode": {
    "name": "ipython",
    "version": 3
   },
   "file_extension": ".py",
   "mimetype": "text/x-python",
   "name": "python",
   "nbconvert_exporter": "python",
   "pygments_lexer": "ipython3",
   "version": "3.12.3"
  }
 },
 "nbformat": 4,
 "nbformat_minor": 2
}
