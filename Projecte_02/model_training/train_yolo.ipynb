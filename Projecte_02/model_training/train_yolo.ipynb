{
 "cells": [
  {
   "cell_type": "code",
   "execution_count": 1,
   "metadata": {},
   "outputs": [
    {
     "name": "stdout",
     "output_type": "stream",
     "text": [
      "Name: roboflow\n",
      "Version: 1.1.58\n",
      "Summary: Official Python package for working with the Roboflow API\n",
      "Home-page: https://github.com/roboflow-ai/roboflow-python\n",
      "Author: Roboflow\n",
      "Author-email: support@roboflow.com\n",
      "License: UNKNOWN\n",
      "Location: /home/andreuet/PIA_Projectes/Projecte_02/matricules_venv/lib/python3.12/site-packages\n",
      "Requires: certifi, cycler, filetype, idna, kiwisolver, matplotlib, numpy, opencv-python-headless, Pillow, pillow-heif, python-dateutil, python-dotenv, PyYAML, requests, requests-toolbelt, six, tqdm, urllib3\n",
      "Required-by: \n",
      "---\n",
      "Name: ultralytics\n",
      "Version: 8.3.97\n",
      "Summary: Ultralytics YOLO 🚀 for SOTA object detection, multi-object tracking, instance segmentation, pose estimation and image classification.\n",
      "Home-page: \n",
      "Author: \n",
      "Author-email: Glenn Jocher <glenn.jocher@ultralytics.com>, Jing Qiu <jing.qiu@ultralytics.com>\n",
      "License: AGPL-3.0\n",
      "Location: /home/andreuet/PIA_Projectes/Projecte_02/matricules_venv/lib/python3.12/site-packages\n",
      "Requires: matplotlib, numpy, opencv-python, pandas, pillow, psutil, py-cpuinfo, pyyaml, requests, scipy, seaborn, torch, torchvision, tqdm, ultralytics-thop\n",
      "Required-by: \n"
     ]
    }
   ],
   "source": [
    "!pip show roboflow ultralytics\n"
   ]
  },
  {
   "cell_type": "code",
   "execution_count": 2,
   "metadata": {},
   "outputs": [
    {
     "name": "stdout",
     "output_type": "stream",
     "text": [
      "loading Roboflow workspace...\n",
      "loading Roboflow project...\n"
     ]
    }
   ],
   "source": [
    "from roboflow import Roboflow\n",
    "rf = Roboflow(api_key=\"5HYzrdPm6LO8xmXDVn3G\")\n",
    "project = rf.workspace(\"vc\").project(\"matriculas-espanolas\")\n",
    "version = project.version(1)\n",
    "dataset = version.download(\"yolov11\")\n",
    "\n",
    "                "
   ]
  },
  {
   "cell_type": "code",
   "execution_count": null,
   "metadata": {},
   "outputs": [],
   "source": [
    "import os\n",
    "from ultralytics import YOLO\n",
    "\n",
    "# Load a COCO-pretrained YOLO11n model\n",
    "model = YOLO(\"yolo11n.pt\")\n",
    "\n",
    "\n",
    "results = model.train(data=os.path.join(dataset.location, \"data.yaml\"), epochs=50, imgsz=640)\n",
    "\n"
   ]
  },
  {
   "cell_type": "code",
   "execution_count": 2,
   "metadata": {},
   "outputs": [
    {
     "ename": "NameError",
     "evalue": "name 'YOLO' is not defined",
     "output_type": "error",
     "traceback": [
      "\u001b[31m---------------------------------------------------------------------------\u001b[39m",
      "\u001b[31mNameError\u001b[39m                                 Traceback (most recent call last)",
      "\u001b[36mCell\u001b[39m\u001b[36m \u001b[39m\u001b[32mIn[2]\u001b[39m\u001b[32m, line 1\u001b[39m\n\u001b[32m----> \u001b[39m\u001b[32m1\u001b[39m model = \u001b[43mYOLO\u001b[49m(\u001b[33m\"\u001b[39m\u001b[33m./yolo11n.pt\u001b[39m\u001b[33m\"\u001b[39m)\n",
      "\u001b[31mNameError\u001b[39m: name 'YOLO' is not defined"
     ]
    }
   ],
   "source": [
    "model = YOLO(\"./yolo11n.pt\")"
   ]
  },
  {
   "cell_type": "code",
   "execution_count": 4,
   "metadata": {},
   "outputs": [],
   "source": [
    "images=[\n",
    "    \"./Matriculas-Españolas-1/valid/images/1668448029089_jpg.rf.779ea16b2d2e47a624e8ebfa0d3e96a9.jpg\"\n",
    "]\n",
    "\n",
    "results = model.predict(\n",
    "    source=images,\n",
    "    # conf=0.25,    # Umbral de confianza\n",
    "    save=False,   # No que dibuje YOLO; lo haremos manualmente con OpenCV\n",
    "    verbose=False\n",
    ")"
   ]
  },
  {
   "cell_type": "code",
   "execution_count": null,
   "metadata": {},
   "outputs": [],
   "source": [
    "import cv2\n",
    "import numpy as np\n",
    "\n",
    "# Suponiendo que 'results' contiene las predicciones de YOLO\n",
    "# y 'images' contiene la ruta de la imagen\n",
    "\n",
    "# Cargar la imagen\n",
    "image_path = images[0]\n",
    "image = cv2.imread(image_path)\n",
    "\n",
    "# Verificar que la imagen se cargó correctamente\n",
    "if image is None:\n",
    "    print(f\"No se pudo cargar la imagen: {image_path}\")\n",
    "    exit()\n",
    "\n",
    "# Obtener las predicciones para esta imagen (asumiendo que solo hay una imagen)\n",
    "result = results[0]\n",
    "\n",
    "# Dibujar cada bounding box\n",
    "for box in result.boxes:\n",
    "    # Obtener coordenadas de la bounding box (x1, y1, x2, y2)\n",
    "    x1, y1, x2, y2 = map(int, box.xyxy[0])\n",
    "    \n",
    "    # Obtener la confianza y la clase\n",
    "    confidence = box.conf[0]\n",
    "    class_id = int(box.cls[0])\n",
    "    class_name = result.names[class_id]\n",
    "    \n",
    "    # Color para la bounding box (aquí usamos verde)\n",
    "    color = (0, 255, 0)\n",
    "    \n",
    "    # Dibujar el rectángulo\n",
    "    cv2.rectangle(image, (x1, y1), (x2, y2), color, 2)\n",
    "    \n",
    "    # Crear texto con la clase y confianza\n",
    "    label = f\"{class_name}: {confidence:.2f}\"\n",
    "    \n",
    "    # Tamaño del texto\n",
    "    (text_width, text_height), _ = cv2.getTextSize(label, cv2.FONT_HERSHEY_SIMPLEX, 0.5, 1)\n",
    "    \n",
    "    # Dibujar fondo para el texto\n",
    "    cv2.rectangle(image, (x1, y1 - text_height - 5), (x1 + text_width, y1), color, -1)\n",
    "    \n",
    "    # Dibujar el texto\n",
    "    cv2.putText(image, label, (x1, y1 - 5), cv2.FONT_HERSHEY_SIMPLEX, 0.5, (0, 0, 0), 1)\n",
    "\n",
    "# Mostrar la imagen\n",
    "cv2.imshow(\"Detections\", image)\n",
    "cv2.waitKey(0)\n",
    "cv2.destroyAllWindows()\n",
    "\n",
    "# Opcional: guardar la imagen con las detecciones\n",
    "# cv2.imwrite(\"detections.jpg\", image)"
   ]
  }
 ],
 "metadata": {
  "kernelspec": {
   "display_name": "matricules_venv",
   "language": "python",
   "name": "python3"
  },
  "language_info": {
   "codemirror_mode": {
    "name": "ipython",
    "version": 3
   },
   "file_extension": ".py",
   "mimetype": "text/x-python",
   "name": "python",
   "nbconvert_exporter": "python",
   "pygments_lexer": "ipython3",
   "version": "3.12.3"
  }
 },
 "nbformat": 4,
 "nbformat_minor": 2
}
