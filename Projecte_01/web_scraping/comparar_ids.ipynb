{
 "cells": [
  {
   "cell_type": "code",
   "execution_count": 1,
   "metadata": {},
   "outputs": [
    {
     "ename": "ImportError",
     "evalue": "attempted relative import with no known parent package",
     "output_type": "error",
     "traceback": [
      "\u001b[0;31m---------------------------------------------------------------------------\u001b[0m",
      "\u001b[0;31mImportError\u001b[0m                               Traceback (most recent call last)",
      "Cell \u001b[0;32mIn[1], line 3\u001b[0m\n\u001b[1;32m      1\u001b[0m \u001b[38;5;28;01mimport\u001b[39;00m\u001b[38;5;250m \u001b[39m\u001b[38;5;21;01mjson\u001b[39;00m\n\u001b[1;32m      2\u001b[0m \u001b[38;5;28;01mfrom\u001b[39;00m\u001b[38;5;250m \u001b[39m\u001b[38;5;21;01mpymongo\u001b[39;00m\u001b[38;5;250m \u001b[39m\u001b[38;5;28;01mimport\u001b[39;00m MongoClient\n\u001b[0;32m----> 3\u001b[0m \u001b[38;5;28;01mfrom\u001b[39;00m\u001b[38;5;250m \u001b[39m\u001b[38;5;21;01m.\u001b[39;00m\u001b[38;5;21;01m.\u001b[39;00m\u001b[38;5;21;01mconfig\u001b[39;00m\u001b[38;5;250m \u001b[39m\u001b[38;5;28;01mimport\u001b[39;00m MONGO_CLIENT_PATH, MONGO_DB_PATH, MONGO_COLLECTION_PATH\n",
      "\u001b[0;31mImportError\u001b[0m: attempted relative import with no known parent package"
     ]
    }
   ],
   "source": [
    "import json\n",
    "from pymongo import MongoClient"
   ]
  },
  {
   "cell_type": "code",
   "execution_count": null,
   "metadata": {},
   "outputs": [],
   "source": [
    "cliente = MongoClient(\"mongodb://localhost:27020/\")\n",
    "db = cliente[\"PIA\"]\n",
    "coleccion = db[\"products\"]"
   ]
  },
  {
   "cell_type": "markdown",
   "metadata": {},
   "source": [
    "## Obtindre ids del ficher"
   ]
  },
  {
   "cell_type": "code",
   "execution_count": null,
   "metadata": {},
   "outputs": [],
   "source": [
    "file = '../res/backup_mobiles_18_02_2025_21_42.json'\n",
    "with open(file, 'r') as file1:\n",
    "    data = json.load(file1)\n",
    "\n",
    "ids = [item['_id'] for item in data]\n",
    "\n",
    "file_salida = \"ids_file.json\"\n",
    "with open(file_salida, 'w') as f:\n",
    "    json.dump(ids, f, indent=4)"
   ]
  },
  {
   "cell_type": "markdown",
   "metadata": {},
   "source": [
    "## Unir fichers de id"
   ]
  },
  {
   "cell_type": "code",
   "execution_count": null,
   "metadata": {},
   "outputs": [],
   "source": [
    "with open('../res/ids.json', 'r') as file1, open('../res/ids_01.json', 'r') as file2:\n",
    "    ids_1 = json.load(file1)\n",
    "    ids_2 = json.load(file2)\n",
    "\n",
    "ids_unificados = list(set(ids_1 + ids_2))\n",
    "\n",
    "with open('ids_unificados.json', 'w') as output_file:\n",
    "    json.dump(ids_unificados, output_file, indent=4)\n",
    "\n",
    "print(f\"Total de IDs únics: {len(ids_unificados)}\")"
   ]
  },
  {
   "cell_type": "markdown",
   "metadata": {},
   "source": [
    "## Comparar fichers de ids amb mongodb"
   ]
  },
  {
   "cell_type": "code",
   "execution_count": null,
   "metadata": {},
   "outputs": [],
   "source": [
    "ids_mongo = {str(doc['_id']) for doc in coleccion.find({}, {'_id': 1})}\n",
    "\n",
    "with open('./ids_file.json', 'r') as archivo_json:\n",
    "    ids_json = set(json.load(archivo_json))\n",
    "\n",
    "ids_nuevos = ids_json - ids_mongo\n",
    "\n",
    "if ids_nuevos:\n",
    "    with open('../res/ids_faltantes.json', 'w') as archivo_salida:\n",
    "        json.dump(list(ids_nuevos), archivo_salida, indent=4)\n",
    "    print(f\"{len(ids_nuevos)} nous IDs. Guardat en '../res/ids_faltantes.json'.\")\n",
    "else:\n",
    "    print(\"No hi han nous IDs.\")\n",
    "\n"
   ]
  },
  {
   "cell_type": "markdown",
   "metadata": {},
   "source": [
    "## Lista de ids de mongoDB"
   ]
  },
  {
   "cell_type": "code",
   "execution_count": null,
   "metadata": {},
   "outputs": [],
   "source": [
    "ids = coleccion.distinct('_id')\n",
    "\n",
    "ids_formateados = [str(id) for id in ids]\n",
    "with open('ids.json', 'w') as archivo_json:\n",
    "    json.dump(ids_formateados, archivo_json, indent=4)"
   ]
  }
 ],
 "metadata": {
  "kernelspec": {
   "display_name": "projecte01_venv",
   "language": "python",
   "name": "python3"
  },
  "language_info": {
   "codemirror_mode": {
    "name": "ipython",
    "version": 3
   },
   "file_extension": ".py",
   "mimetype": "text/x-python",
   "name": "python",
   "nbconvert_exporter": "python",
   "pygments_lexer": "ipython3",
   "version": "3.12.3"
  }
 },
 "nbformat": 4,
 "nbformat_minor": 2
}
