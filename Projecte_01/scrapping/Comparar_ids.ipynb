{
 "cells": [
  {
   "cell_type": "markdown",
   "metadata": {},
   "source": [
    "## Unir ficheros de ids"
   ]
  },
  {
   "cell_type": "code",
   "execution_count": 10,
   "metadata": {},
   "outputs": [
    {
     "name": "stdout",
     "output_type": "stream",
     "text": [
      "Se han unificado los archivos y eliminado duplicados. Total de IDs únicos: 783\n"
     ]
    }
   ],
   "source": [
    "import json\n",
    "\n",
    "# Cargar los dos archivos JSON\n",
    "with open('../res/ids.json', 'r') as file1, open('../res/ids_01.json', 'r') as file2:\n",
    "    ids_1 = json.load(file1)\n",
    "    ids_2 = json.load(file2)\n",
    "\n",
    "# Unificar y eliminar duplicados\n",
    "ids_unificados = list(set(ids_1 + ids_2))\n",
    "\n",
    "# Guardar el resultado en un nuevo archivo\n",
    "with open('ids_unificados.json', 'w') as output_file:\n",
    "    json.dump(ids_unificados, output_file, indent=4)\n",
    "\n",
    "print(f\"Se han unificado los archivos y eliminado duplicados. Total de IDs únicos: {len(ids_unificados)}\")"
   ]
  },
  {
   "cell_type": "markdown",
   "metadata": {},
   "source": [
    "## Comparar fichero de ids con mongodb"
   ]
  },
  {
   "cell_type": "code",
   "execution_count": 3,
   "metadata": {},
   "outputs": [
    {
     "name": "stdout",
     "output_type": "stream",
     "text": [
      "Se encontraron 28 nuevos IDs. Guardados en '../res/ids_faltantes.json'.\n"
     ]
    }
   ],
   "source": [
    "from pymongo import MongoClient\n",
    "import json\n",
    "\n",
    "# Conexión a MongoDB\n",
    "cliente = MongoClient(\"mongodb://localhost:27018/\")\n",
    "db = cliente[\"PIA\"]\n",
    "coleccion = db[\"products\"]\n",
    "\n",
    "# Extraer los IDs de MongoDB\n",
    "ids_mongo = {str(doc['_id']) for doc in coleccion.find({}, {'_id': 1})}\n",
    "\n",
    "# Cargar IDs del JSON\n",
    "with open('../res/ids_faltantes.json', 'r') as archivo_json:\n",
    "    ids_json = set(json.load(archivo_json))\n",
    "\n",
    "# Comparar\n",
    "ids_nuevos = ids_json - ids_mongo\n",
    "\n",
    "# Resultado\n",
    "if ids_nuevos:\n",
    "    with open('../res/ids_faltantes.json', 'w') as archivo_salida:\n",
    "        json.dump(list(ids_nuevos), archivo_salida, indent=4)\n",
    "    print(f\"Se encontraron {len(ids_nuevos)} nuevos IDs. Guardados en '../res/ids_faltantes.json'.\")\n",
    "else:\n",
    "    print(\"No se encontraron nuevos IDs.\")\n",
    "\n"
   ]
  },
  {
   "cell_type": "code",
   "execution_count": 4,
   "metadata": {},
   "outputs": [
    {
     "name": "stdout",
     "output_type": "stream",
     "text": [
      "Datos limpiados y guardados en 'archivo_limpio.json'.\n"
     ]
    }
   ],
   "source": [
    "import json\n",
    "\n",
    "# Leer el archivo JSON\n",
    "with open('../res/mobiles.json', 'r', encoding='utf-8') as file:\n",
    "    data = json.load(file)\n",
    "\n",
    "# Función para eliminar las claves con el valor \"no disponible\" (ignorando mayúsculas/minúsculas)\n",
    "def limpiar_datos(documento):\n",
    "    keys_to_remove = [key for key, value in documento.items() if isinstance(value, str) and value.strip().lower() == \"no disponible\"]\n",
    "    for key in keys_to_remove:\n",
    "        del documento[key]\n",
    "    return documento\n",
    "\n",
    "# Aplicar la limpieza a cada documento en el archivo JSON\n",
    "for document in data:\n",
    "    limpiar_datos(document)\n",
    "\n",
    "# Guardar los datos modificados en un nuevo archivo JSON\n",
    "with open('archivo_limpio.json', 'w', encoding='utf-8') as file:\n",
    "    json.dump(data, file, ensure_ascii=False, indent=4)\n",
    "\n",
    "print(\"Datos limpiados y guardados en 'archivo_limpio.json'.\")\n"
   ]
  }
 ],
 "metadata": {
  "kernelspec": {
   "display_name": "projecte01_venv",
   "language": "python",
   "name": "python3"
  },
  "language_info": {
   "codemirror_mode": {
    "name": "ipython",
    "version": 3
   },
   "file_extension": ".py",
   "mimetype": "text/x-python",
   "name": "python",
   "nbconvert_exporter": "python",
   "pygments_lexer": "ipython3",
   "version": "3.12.7"
  }
 },
 "nbformat": 4,
 "nbformat_minor": 2
}
