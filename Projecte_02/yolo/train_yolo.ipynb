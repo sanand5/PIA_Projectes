{
 "cells": [
  {
   "cell_type": "code",
   "execution_count": null,
   "metadata": {},
   "outputs": [],
   "source": [
    "!pip show roboflow ultralytics\n"
   ]
  },
  {
   "cell_type": "code",
   "execution_count": null,
   "metadata": {},
   "outputs": [],
   "source": [
    "from roboflow import Roboflow\n",
    "import os\n",
    "from ultralytics import YOLO\n",
    "from datetime import datetime\n",
    "import cv2\n",
    "from pathlib import Path\n",
    "import shutil\n",
    "from glob import glob"
   ]
  },
  {
   "cell_type": "markdown",
   "metadata": {},
   "source": [
    "## Descarregar el dataset"
   ]
  },
  {
   "cell_type": "code",
   "execution_count": null,
   "metadata": {},
   "outputs": [],
   "source": [
    "rf = Roboflow(api_key=\"5HYzrdPm6LO8xmXDVn3G\")\n",
    "project = rf.workspace(\"vc\").project(\"matriculas-espanolas\")\n",
    "version = project.version(1)\n",
    "dataset = version.download(\"yolov11\")                "
   ]
  },
  {
   "cell_type": "markdown",
   "metadata": {},
   "source": [
    "## Entrenar "
   ]
  },
  {
   "cell_type": "code",
   "execution_count": null,
   "metadata": {},
   "outputs": [],
   "source": [
    "model = YOLO(\"yolo11n.pt\")\n",
    "results = model.train(data=os.path.join(dataset.location, \"data.yaml\"), epochs=50, imgsz=640)"
   ]
  },
  {
   "cell_type": "markdown",
   "metadata": {},
   "source": [
    "## Entrenar el model"
   ]
  },
  {
   "cell_type": "code",
   "execution_count": null,
   "metadata": {},
   "outputs": [],
   "source": [
    "model = YOLO(\"yolo11n.pt\")\n",
    "results = model.train(data=os.path.join(dataset.location, \"data.yaml\"), epochs=50, imgsz=640)"
   ]
  },
  {
   "cell_type": "markdown",
   "metadata": {},
   "source": [
    "## Guardar el model"
   ]
  },
  {
   "cell_type": "code",
   "execution_count": null,
   "metadata": {},
   "outputs": [],
   "source": [
    "models_path = \"models\"\n",
    "fecha_hora_actual = datetime.now().strftime(\"%d_%m_%Y_%H_%M\")\n",
    "model_name = f\"model_{fecha_hora_actual}\"\n",
    "model_path = os.path.join(models_path, model_name)\n",
    "os.makedirs(models_path, exist_ok=True)\n",
    "model.save(f\"{model_path}.pt\")"
   ]
  },
  {
   "cell_type": "markdown",
   "metadata": {},
   "source": [
    "## Carregar el model"
   ]
  },
  {
   "cell_type": "code",
   "execution_count": null,
   "metadata": {},
   "outputs": [],
   "source": [
    "model_matr = YOLO(\"models/model_27_03_2025_19_30.pt\")"
   ]
  },
  {
   "cell_type": "markdown",
   "metadata": {},
   "source": [
    "## Prediure imagues"
   ]
  },
  {
   "cell_type": "code",
   "execution_count": null,
   "metadata": {},
   "outputs": [],
   "source": [
    "import os\n",
    "from glob import glob  # Importamos la función glob directamente\n",
    "\n",
    "def get_image_paths(input_path):\n",
    "    \"\"\"Obtiene la lista de rutas de imágenes a procesar\"\"\"\n",
    "    if isinstance(input_path, list):\n",
    "        return input_path\n",
    "    elif os.path.isfile(input_path):\n",
    "        return [input_path]\n",
    "    elif os.path.isdir(input_path):\n",
    "        image_paths = (glob(os.path.join(input_path, '*.jpg')) + \n",
    "                      glob(os.path.join(input_path, '*.png')) + \n",
    "                      glob(os.path.join(input_path, '*.jpeg')))\n",
    "        return image_paths\n",
    "    else:\n",
    "        raise ValueError(\"Input path no es válido (debe ser imagen, lista o carpeta)\")\n",
    "\n",
    "def generar_markdown_imagenes(input_dir, output_md_path):\n",
    "    \"\"\"Genera un archivo Markdown con todas las imágenes de un directorio\"\"\"\n",
    "    if not os.path.exists(input_dir):\n",
    "        raise FileNotFoundError(f\"El directorio {input_dir} no existe\")\n",
    "    \n",
    "    imagenes = sorted(glob(os.path.join(input_dir, '*.jpg')) + \n",
    "                    glob(os.path.join(input_dir, '*.png')) + \n",
    "                    glob(os.path.join(input_dir, '*.jpeg')))\n",
    "    \n",
    "    contenido_md = \"# Imágenes generadas\\n\\n\"\n",
    "    for img_path in imagenes:\n",
    "        img_name = os.path.basename(img_path)\n",
    "        ruta_relativa = os.path.relpath(img_path, start=os.path.dirname(output_md_path))\n",
    "        contenido_md += f\"## {img_name}\\n\\n\"\n",
    "        contenido_md += f\"![{img_name}]({ruta_relativa})\\n\\n\"\n",
    "    \n",
    "    os.makedirs(os.path.dirname(output_md_path), exist_ok=True)\n",
    "    \n",
    "    with open(output_md_path, 'w') as md_file:\n",
    "        md_file.write(contenido_md)\n",
    "    \n",
    "    return output_md_path\n",
    "    "
   ]
  },
  {
   "cell_type": "code",
   "execution_count": null,
   "metadata": {},
   "outputs": [
    {
     "name": "stdout",
     "output_type": "stream",
     "text": [
      "Results saved to \u001b[1moutput_model/images\u001b[0m\n",
      "6 labels saved to output_model/images/labels\n"
     ]
    },
    {
     "data": {
      "text/plain": [
       "'./output_model/imagenes_generadas.md'"
      ]
     },
     "execution_count": 22,
     "metadata": {},
     "output_type": "execute_result"
    }
   ],
   "source": [
    "input_path = \"Matriculas-Españolas-1/valid/images/\"\n",
    "image_paths = get_image_paths(input_path)\n",
    "\n",
    "name = \"images\"\n",
    "project = \"./output_model\"\n",
    "results = model_matr.predict(\n",
    "    source=image_paths,\n",
    "    conf=0.25,\n",
    "    save=True,\n",
    "    save_txt=True,\n",
    "    name = name,\n",
    "    project = project,\n",
    "    exist_ok=True,\n",
    "    verbose=False\n",
    ")\n",
    "\n",
    "origen = os.path.join(project, name, \"labels\")\n",
    "destino = os.path.join(project, \"labels\")\n",
    "\n",
    "shutil.copytree(origen, destino, dirs_exist_ok=True)\n",
    "shutil.rmtree(origen)\n",
    "\n",
    "md_path = os.path.join(project, \"imagenes_generadas.md\")\n",
    "image_paths = os.path.join(project, name)\n",
    "\n",
    "generar_markdown_imagenes(image_paths, md_path)"
   ]
  },
  {
   "cell_type": "markdown",
   "metadata": {},
   "source": [
    "## Retallar matricules"
   ]
  },
  {
   "cell_type": "code",
   "execution_count": 34,
   "metadata": {},
   "outputs": [],
   "source": [
    "def predecir_yolo(photo, model):\n",
    "    results = model.predict(\n",
    "        source=photo,\n",
    "        conf=0.25,\n",
    "        save=False,\n",
    "        save_txt=False,\n",
    "        verbose=False\n",
    "    )\n",
    "    return results[0]\n",
    "\n",
    "def obtener_bbox(result, max_len=1):\n",
    "    boxes_with_confs = [(box.xyxy, box.conf.item()) for box in result.boxes]\n",
    "    boxes_sorted = sorted(boxes_with_confs, key=lambda x: x[1], reverse=True)\n",
    "    recuadros = [box[0] for box in boxes_sorted[:max_len]]\n",
    "    return recuadros\n",
    "\n",
    "def recortar_y_guardar_matricula(bboxes, photo, output_dir=\"recortes_matriculas\"):\n",
    "    \"\"\"Recorta las matriculas y las guarda en una carpeta\"\"\"\n",
    "    img = cv2.imread(photo)\n",
    "    if img is None:\n",
    "        raise ValueError(f\"No se pudo leer la imagen: {photo}\")\n",
    "    \n",
    "    recortes = []\n",
    "    for i, bbox in enumerate(bboxes):\n",
    "        coords = bbox.tolist()[0]\n",
    "        x1, y1, x2, y2 = map(int, coords)\n",
    "        \n",
    "        h, w = img.shape[:2]\n",
    "        x1, y1 = max(0, x1), max(0, y1)\n",
    "        x2, y2 = min(w, x2), min(h, y2)\n",
    "        \n",
    "        if x2 > x1 and y2 > y1:\n",
    "            recorte = img[y1:y2, x1:x2]\n",
    "            recortes.append(recorte)\n",
    "            \n",
    "            os.makedirs(output_dir, exist_ok=True)\n",
    "            ruta_guardado = os.path.join(output_dir, f\"{os.path.basename(photo)}.jpg\")\n",
    "            cv2.imwrite(ruta_guardado, recorte)\n",
    "            print(f\"Guardado: {ruta_guardado}\")\n",
    "        else:\n",
    "            print(f\"Advertencia: Bbox inválida {[x1, y1, x2, y2]}\")\n",
    "    \n",
    "    return recortes\n",
    "\n",
    "def obtener_matriculas(photo, model, max_len=1):\n",
    "    result = predecir_yolo(photo, model)\n",
    "    bboxes = obtener_bbox(result, max_len)\n",
    "    recortes = recortar_y_guardar_matricula(bboxes, photo)\n",
    "    return recortes"
   ]
  },
  {
   "cell_type": "code",
   "execution_count": null,
   "metadata": {},
   "outputs": [],
   "source": []
  },
  {
   "cell_type": "code",
   "execution_count": 35,
   "metadata": {},
   "outputs": [
    {
     "name": "stdout",
     "output_type": "stream",
     "text": [
      "Guardado: recortes_matriculas/1668451260013_jpg.rf.a43de5c4c61524722133953d593db167.jpg.jpg\n",
      "Guardado: recortes_matriculas/1668451259934_jpg.rf.3928be91786172e8a9d60b940da09170.jpg.jpg\n",
      "Guardado: recortes_matriculas/1668451259821_jpg.rf.741a09f814557ec2d6e847374049b634.jpg.jpg\n",
      "Guardado: recortes_matriculas/1668451259976_jpg.rf.7b05048043432430bd0cb020d8d0ad07.jpg.jpg\n",
      "Guardado: recortes_matriculas/1668451259976_jpg.rf.8e1a4c9dd4297c481a772867815068b5.jpg.jpg\n",
      "Guardado: recortes_matriculas/1668448029142_jpg.rf.cf6da3a11178b60f2fa19e86ccf62eea.jpg.jpg\n",
      "Guardado: recortes_matriculas/1668451259895_jpg.rf.62f5495482fc6cf6445129c672f08271.jpg.jpg\n",
      "Guardado: recortes_matriculas/1668451259760_jpg.rf.053d2c6ac7893848063fc1751bcac745.jpg.jpg\n",
      "Guardado: recortes_matriculas/1668448029123_jpg.rf.88cffbc2f7981d8606a5f51f15ccee46.jpg.jpg\n",
      "Guardado: recortes_matriculas/1668451259821_jpg.rf.b88a30365cd7a403da97337f767a853f.jpg.jpg\n",
      "Guardado: recortes_matriculas/1668451259915_jpg.rf.117ccdff1a48ba855cab3b94d0decc0d.jpg.jpg\n",
      "Guardado: recortes_matriculas/1668451259702_jpg.rf.34d7fd8972dd45bc34634dcc8e020e71.jpg.jpg\n",
      "Guardado: recortes_matriculas/1668451259934_jpg.rf.cc09d92db9862fa7009568ce069a70b9.jpg.jpg\n",
      "Guardado: recortes_matriculas/1668451259821_jpg.rf.5a1806d92d08c56a035aaf01eba8db25.jpg.jpg\n",
      "Guardado: recortes_matriculas/1668451260033_jpg.rf.d705fe64a1d54f150fe5ce677b4545c7.jpg.jpg\n",
      "Guardado: recortes_matriculas/1668451259781_jpg.rf.e33d94e0145d53a1f69b051d17668c36.jpg.jpg\n",
      "Guardado: recortes_matriculas/1668451259990_jpg.rf.8a04b5c15ca99dfde558c097d8053734.jpg.jpg\n",
      "Guardado: recortes_matriculas/1668451259801_jpg.rf.76878d453313e2c0901ea71037a07cd9.jpg.jpg\n",
      "Guardado: recortes_matriculas/1668448029007_jpg.rf.8b25a56f066f9c6a072d2e95f1034910.jpg.jpg\n",
      "Guardado: recortes_matriculas/1668451259976_jpg.rf.4aa6ee0da2e08e9b94f4ab1a3933a2ae.jpg.jpg\n",
      "Guardado: recortes_matriculas/1668448029162_jpg.rf.41f455ac196b23969e92cdeecbf98d1d.jpg.jpg\n",
      "Guardado: recortes_matriculas/1668448029142_jpg.rf.6ae9f42dc1405689b61776da3564fbc2.jpg.jpg\n",
      "Guardado: recortes_matriculas/1668448029105_jpg.rf.819fa3648841d4be1b8e379693692669.jpg.jpg\n",
      "Guardado: recortes_matriculas/1668451259657_jpg.rf.f17a50d2bd31ec096f942080375b9963.jpg.jpg\n",
      "Guardado: recortes_matriculas/1668451259801_jpg.rf.2e3b97e53fd597d50f4defd69bce271f.jpg.jpg\n",
      "Guardado: recortes_matriculas/1668451259657_jpg.rf.14582b6f9311c17759ea7044ea11dc96.jpg.jpg\n",
      "Guardado: recortes_matriculas/1668451259990_jpg.rf.4a6671e29201dd028d39f3992e4daeda.jpg.jpg\n",
      "Guardado: recortes_matriculas/1668448029162_jpg.rf.b5a69eabe66ea4e992b3d67c8c83d7c3.jpg.jpg\n",
      "Guardado: recortes_matriculas/1668451260013_jpg.rf.3ad1c0c5c006118d6976d60d41becdc7.jpg.jpg\n",
      "Guardado: recortes_matriculas/1668451259760_jpg.rf.d27dd418f4cdb61d36d8c3ba2925a06e.jpg.jpg\n",
      "Guardado: recortes_matriculas/1668451260033_jpg.rf.21a304fecad4e17bb032ec693952be47.jpg.jpg\n",
      "Guardado: recortes_matriculas/1668451259895_jpg.rf.338fd2a588b7eadcb49b7c97cf6c112e.jpg.jpg\n",
      "Guardado: recortes_matriculas/1668448029162_jpg.rf.290a62fbb170462c0bb7ff909d8c5ff7.jpg.jpg\n",
      "Guardado: recortes_matriculas/1668451259720_jpg.rf.c45eece42088c593a2d2410a8d4c728b.jpg.jpg\n",
      "Guardado: recortes_matriculas/1668451259934_jpg.rf.3f3a5e9fba9d578479e3bf7fcbb3535d.jpg.jpg\n",
      "Guardado: recortes_matriculas/1668451260033_jpg.rf.da71be77013239dcd7736227e8f616df.jpg.jpg\n",
      "Guardado: recortes_matriculas/1668448029030_jpg.rf.9903349d315d44bb0a7c28d5c26875fb.jpg.jpg\n",
      "Guardado: recortes_matriculas/1668448029049_jpg.rf.ffb32275395d4043aeed6ec04d9005cd.jpg.jpg\n",
      "Guardado: recortes_matriculas/1668448029105_jpg.rf.54ff34cc7da03c9db7886b265dde715a.jpg.jpg\n",
      "Guardado: recortes_matriculas/1668451259990_jpg.rf.fb7c5f7d575183de2c0d17f64013e56f.jpg.jpg\n",
      "Guardado: recortes_matriculas/1668448029068_jpg.rf.8c474832a7fe8b4b8a5bf2ac0f8ef2b7.jpg.jpg\n",
      "Guardado: recortes_matriculas/1668451259657_jpg.rf.a4faf169b3d4c7a5da49a607badfd12b.jpg.jpg\n",
      "Guardado: recortes_matriculas/1668448029030_jpg.rf.225b378d44f90bd8ee3cadc5c709abc0.jpg.jpg\n",
      "Guardado: recortes_matriculas/1668448029007_jpg.rf.90aa74bde1d9b70b289800ba8035b0a7.jpg.jpg\n",
      "Guardado: recortes_matriculas/1668451259675_jpg.rf.4f5f23303dafecacfbe9f5e4a1b1efa9.jpg.jpg\n",
      "Guardado: recortes_matriculas/1668451259781_jpg.rf.8ac66a21bfa1752eb2ad07c25f3acf55.jpg.jpg\n",
      "Guardado: recortes_matriculas/1668451259801_jpg.rf.dcfb3fd13ad1ddf82accbe406871f6de.jpg.jpg\n",
      "Guardado: recortes_matriculas/1668451259675_jpg.rf.3c5630b76d436c252c2ce5048f71a9dd.jpg.jpg\n",
      "Guardado: recortes_matriculas/1668448029007_jpg.rf.e34218d33f7ce62984d91a64db53b4da.jpg.jpg\n",
      "Guardado: recortes_matriculas/1668448029142_jpg.rf.a868b88609fdd0513c8a250845eb7ff2.jpg.jpg\n",
      "Guardado: recortes_matriculas/1668451259702_jpg.rf.91df26fed0cd71666b615ab2eb41cdbd.jpg.jpg\n",
      "Guardado: recortes_matriculas/1668451259720_jpg.rf.3cea1ae45804e549872600ee8eb7c025.jpg.jpg\n",
      "Guardado: recortes_matriculas/1668448029068_jpg.rf.5f441890fd361e1dccdef89670b206e0.jpg.jpg\n",
      "Guardado: recortes_matriculas/1668448029049_jpg.rf.4be7c6cb08d3119a04486eb11ffec5df.jpg.jpg\n",
      "Guardado: recortes_matriculas/1668448029123_jpg.rf.119d8ef614dd7be6ae9b3c841d69eccb.jpg.jpg\n",
      "Guardado: recortes_matriculas/1668451259760_jpg.rf.e2ab91578752fbc944228b1384850777.jpg.jpg\n",
      "Guardado: recortes_matriculas/1668451259895_jpg.rf.61e95d174fb4d38a654c87c1d8f81eff.jpg.jpg\n",
      "Guardado: recortes_matriculas/1668448029068_jpg.rf.e443545c4233464e6138caf70c792956.jpg.jpg\n",
      "Guardado: recortes_matriculas/1668451259915_jpg.rf.90fd3d9704cc1053e616576165638e5b.jpg.jpg\n",
      "Guardado: recortes_matriculas/1668451260013_jpg.rf.ca6a85badebe32442bcb14a89f2d2e36.jpg.jpg\n",
      "Guardado: recortes_matriculas/1668451259702_jpg.rf.2761c64390037e7e39c3f3d86feb15d5.jpg.jpg\n",
      "Guardado: recortes_matriculas/1668448029049_jpg.rf.38d6f9df5bf44a4adafb31bbcdf976c4.jpg.jpg\n",
      "Guardado: recortes_matriculas/1668451259675_jpg.rf.34f1d345145ad999e46e5634e208d93a.jpg.jpg\n",
      "Guardado: recortes_matriculas/1668451259720_jpg.rf.98e39c5c9a127bcf4655309687690510.jpg.jpg\n",
      "Guardado: recortes_matriculas/1668448029123_jpg.rf.4fc16760aa9b5c6d2d4c5b9598c41dbf.jpg.jpg\n",
      "Guardado: recortes_matriculas/1668448029030_jpg.rf.cd5ba90b14681175db85f117a94b7b0b.jpg.jpg\n",
      "Guardado: recortes_matriculas/1668451259915_jpg.rf.09fa00163654d7ffa42717017e26aa81.jpg.jpg\n",
      "Guardado: recortes_matriculas/1668448029105_jpg.rf.1b4276e004d845e568ecfa30d9488e63.jpg.jpg\n",
      "Guardado: recortes_matriculas/1668451259781_jpg.rf.aa4efc4335ead6998e2eb8bcc4ae16c5.jpg.jpg\n"
     ]
    }
   ],
   "source": [
    "img = \"./Matriculas-Españolas-1/train/images\"\n",
    "output_folder = \"./matriculas_recortadas\"\n",
    "\n",
    "imges_path = get_image_paths(img)\n",
    "for img_path in imges_path:    \n",
    "    obtener_matriculas(img_path, model_matr)"
   ]
  }
 ],
 "metadata": {
  "kernelspec": {
   "display_name": "matricules_venv",
   "language": "python",
   "name": "python3"
  },
  "language_info": {
   "codemirror_mode": {
    "name": "ipython",
    "version": 3
   },
   "file_extension": ".py",
   "mimetype": "text/x-python",
   "name": "python",
   "nbconvert_exporter": "python",
   "pygments_lexer": "ipython3",
   "version": "3.12.3"
  }
 },
 "nbformat": 4,
 "nbformat_minor": 2
}
