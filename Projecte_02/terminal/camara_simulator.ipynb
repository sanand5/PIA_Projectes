{
 "cells": [
  {
   "cell_type": "markdown",
   "metadata": {},
   "source": [
    "# TERMINAL PRINCIPAL"
   ]
  },
  {
   "cell_type": "markdown",
   "metadata": {},
   "source": [
    "## IMPORTES"
   ]
  },
  {
   "cell_type": "code",
   "execution_count": 12,
   "metadata": {},
   "outputs": [],
   "source": [
    "import re\n",
    "from pymongo import MongoClient\n",
    "from pymongo.errors import ConnectionFailure"
   ]
  },
  {
   "cell_type": "markdown",
   "metadata": {},
   "source": [
    "## DATOS MONGODB"
   ]
  },
  {
   "cell_type": "code",
   "execution_count": 18,
   "metadata": {},
   "outputs": [],
   "source": [
    "config = {\n",
    "        'server': None,\n",
    "        'port': 27017,\n",
    "        'username': None,\n",
    "        'password': None,\n",
    "        'database': None,\n",
    "    }\n",
    "\n",
    "PATH= \"../res/config_mongo.txt\""
   ]
  },
  {
   "cell_type": "code",
   "execution_count": 28,
   "metadata": {},
   "outputs": [
    {
     "name": "stdout",
     "output_type": "stream",
     "text": [
      "Credenciales:  {'server': '127.25.0.5', 'port': '27017', 'username': 'user', 'password': 'pass', 'database': 'PIA'}\n"
     ]
    }
   ],
   "source": [
    "# Codigo para sacar variables aqui\n",
    "def get_mongo_data(file_path):\n",
    "\n",
    "    config = {\n",
    "        'server': None,\n",
    "        'port': 27017,  \n",
    "        'username': None,\n",
    "        'password': None,\n",
    "        'database': None,\n",
    "    }\n",
    "    \n",
    "    try:\n",
    "        with open(file_path, 'r') as file:\n",
    "            for line in file:\n",
    "                line = line.strip()\n",
    "                if not line or line.startswith('#'):\n",
    "                    continue\n",
    "                \n",
    "                if '=' in line:\n",
    "                    key, value = line.split('=', 1)\n",
    "                    key = key.strip().lower()\n",
    "                    if key in config:\n",
    "                        config[key] = value.strip()\n",
    "    \n",
    "    except FileNotFoundError:\n",
    "        raise Exception(f\"El archivo de configuración {file_path} no existe\")\n",
    "    except Exception as e:\n",
    "        raise Exception(f\"Error al leer el archivo de configuración: {str(e)}\")\n",
    "    \n",
    "    if not config['server']:\n",
    "        raise Exception(\"El servidor no está configurado en el archivo\")\n",
    "    \n",
    "    return config\n",
    "\n",
    "config = get_mongo_data(PATH)\n",
    "print(\"Credenciales: \",config)"
   ]
  },
  {
   "cell_type": "markdown",
   "metadata": {},
   "source": [
    "## FUNCIONES PRINCIPALES"
   ]
  },
  {
   "cell_type": "markdown",
   "metadata": {},
   "source": [
    "### 1. Comprobar conectividad"
   ]
  },
  {
   "cell_type": "code",
   "execution_count": 29,
   "metadata": {},
   "outputs": [
    {
     "name": "stdout",
     "output_type": "stream",
     "text": [
      "✅ Conexión exitosa a MongoDB\n",
      "Servidor: 127.25.0.5\n",
      "Base de datos: PIA\n"
     ]
    }
   ],
   "source": [
    "def test_mongo_connection(file_path):\n",
    "    \"\"\"\n",
    "    Prueba la conexión a MongoDB usando datos de un archivo TXT\n",
    "    \n",
    "    Args:\n",
    "        file_path (str): Ruta al archivo de configuración\n",
    "    \"\"\"\n",
    "    try:\n",
    "        config = get_mongo_data(file_path)\n",
    "        \n",
    "        # Construir URI de conexión\n",
    "        uri = f\"mongodb://172.25.0.5:27017/PIA\"\n",
    "        \n",
    "        # Probar conexión\n",
    "        client = MongoClient(uri, serverSelectionTimeoutMS=5000)\n",
    "        client.admin.command('ping')\n",
    "        print(\"✅ Conexión exitosa a MongoDB\")\n",
    "        print(f\"Servidor: {config['server']}\")\n",
    "        print(f\"Base de datos: {config['database']}\")\n",
    "        \n",
    "    except ConnectionFailure as e:\n",
    "        print(f\"❌ Error de conexión a MongoDB: {str(e)}\")\n",
    "    except Exception as e:\n",
    "        print(f\"❌ Error: {str(e)}\")\n",
    "\n",
    "test_mongo_connection(PATH)"
   ]
  },
  {
   "cell_type": "markdown",
   "metadata": {},
   "source": [
    "### 2. Un coche entra"
   ]
  },
  {
   "cell_type": "code",
   "execution_count": 5,
   "metadata": {},
   "outputs": [],
   "source": [
    "# CODIGO AQUI\n",
    "\n",
    "#PT1. Se selecciona una foto aleatoria\n",
    "\n",
    "#PT2. Se usa yolo para seleccionar la matricula\n",
    "\n",
    "#PT3. Se usa OCR para sacar el texto\n",
    "\n",
    "#PT4. Se sube el coche a Mongo con\n",
    "\n",
    "    # Foto Completa\n",
    "    # Foto Matricula\n",
    "    # Texto Matricula\n",
    "    # Estado: Dentro\n",
    "    # Timestamp entrada: Fecha y hora exacta a la que ha entrado\n",
    "\n",
    "\n"
   ]
  },
  {
   "cell_type": "markdown",
   "metadata": {},
   "source": [
    "### 3. Un coche con matricula [X] sale"
   ]
  },
  {
   "cell_type": "code",
   "execution_count": 6,
   "metadata": {},
   "outputs": [],
   "source": [
    "# CODIGO AQUI\n",
    "\n",
    "#PT1 Se le pregunta la matricula del coche que ha salido\n",
    "\n",
    "#PT2 Se le comprueba si hay un coche con esa matricula y con el estado \"saliendo\" en la base de datos\n",
    "\n",
    "#PT3 (Si hay) Se cambia el estado a \"fuera\" y se añade un timestamp de salida\n",
    "\n",
    "\n",
    "\n"
   ]
  }
 ],
 "metadata": {
  "kernelspec": {
   "display_name": "gerard",
   "language": "python",
   "name": "python3"
  },
  "language_info": {
   "codemirror_mode": {
    "name": "ipython",
    "version": 3
   },
   "file_extension": ".py",
   "mimetype": "text/x-python",
   "name": "python",
   "nbconvert_exporter": "python",
   "pygments_lexer": "ipython3",
   "version": "3.12.3"
  }
 },
 "nbformat": 4,
 "nbformat_minor": 2
}
